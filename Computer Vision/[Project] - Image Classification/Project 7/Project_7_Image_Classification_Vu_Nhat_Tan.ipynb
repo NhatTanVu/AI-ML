{
 "cells": [
  {
   "cell_type": "markdown",
   "metadata": {},
   "source": [
    "# Context\n",
    "The MNIST digits dataset is a dataset of 60,000 small square 28×28 pixel grayscale images of handwritten single digits between 0 and 9."
   ]
  },
  {
   "cell_type": "markdown",
   "metadata": {},
   "source": [
    "# Objective\n",
    "To implement the techniques learnt as a part of the course."
   ]
  },
  {
   "cell_type": "markdown",
   "metadata": {},
   "source": [
    "# Learning Outcomes\n",
    "- Pre-processing of image data.\n",
    "- Visualization of images.\n",
    "- Building CNN.\n",
    "- Evaluate the Model."
   ]
  },
  {
   "cell_type": "markdown",
   "metadata": {},
   "source": [
    "## 1.1 Import libraries and load dataset"
   ]
  },
  {
   "cell_type": "code",
   "execution_count": 1,
   "metadata": {},
   "outputs": [],
   "source": [
    "import pandas as pd\n",
    "import numpy as np\n",
    "import matplotlib.pyplot as plt\n",
    "%matplotlib inline"
   ]
  },
  {
   "cell_type": "code",
   "execution_count": 2,
   "metadata": {},
   "outputs": [],
   "source": [
    "from tensorflow.keras.datasets import mnist\n",
    "\n",
    "(x_train, y_train), (x_test, y_test) = mnist.load_data()"
   ]
  },
  {
   "cell_type": "markdown",
   "metadata": {},
   "source": [
    "## 1.2 Shape of the dataset"
   ]
  },
  {
   "cell_type": "code",
   "execution_count": 3,
   "metadata": {},
   "outputs": [
    {
     "name": "stdout",
     "output_type": "stream",
     "text": [
      "-- Shape --\n",
      "Train: (60000, 28, 28) (60000,)\n",
      "Test:  (10000, 28, 28) (10000,)\n"
     ]
    }
   ],
   "source": [
    "print(\"-- Shape --\")\n",
    "print('Train:', x_train.shape, y_train.shape)\n",
    "print('Test: ', x_test.shape, y_test.shape)"
   ]
  },
  {
   "cell_type": "code",
   "execution_count": 4,
   "metadata": {},
   "outputs": [
    {
     "name": "stdout",
     "output_type": "stream",
     "text": [
      "-- Pixel values --\n",
      "Train: 0 33.318421449829934 78.56748998339798 255\n",
      "Test:  0 33.791224489795916 79.17246322228644 255\n"
     ]
    }
   ],
   "source": [
    "print(\"-- Pixel values --\")\n",
    "print('Train:', x_train.min(), x_train.mean(), x_train.std(), x_train.max())\n",
    "print('Test: ', x_test.min(), x_test.mean(), x_test.std(), x_test.max())"
   ]
  },
  {
   "cell_type": "markdown",
   "metadata": {},
   "source": [
    "## 1.3 Visualize the images"
   ]
  },
  {
   "cell_type": "code",
   "execution_count": 5,
   "metadata": {},
   "outputs": [
    {
     "data": {
      "text/plain": [
       "array([[  0,   0,   0,   0,   0,   0,   0,   0,   0,   0,   0,   0,   0,\n",
       "          0,   0,   0,   0,   0,   0,   0,   0,   0,   0,   0,   0,   0,\n",
       "          0,   0],\n",
       "       [  0,   0,   0,   0,   0,   0,   0,   0,   0,   0,   0,   0,   0,\n",
       "          0,   0,   0,   0,   0,   0,   0,   0,   0,   0,   0,   0,   0,\n",
       "          0,   0],\n",
       "       [  0,   0,   0,   0,   0,   0,   0,   0,   0,   0,   0,   0,   0,\n",
       "          0,   0,   0,   0,   0,   0,   0,   0,   0,   0,   0,   0,   0,\n",
       "          0,   0],\n",
       "       [  0,   0,   0,   0,   0,   0,   0,   0,   0,   0,   0,   0,   0,\n",
       "          0,   0,   0,   0,   0,   0,   0,   0,   0,   0,   0,   0,   0,\n",
       "          0,   0],\n",
       "       [  0,   0,   0,   0,   0,   0,   0,   0,   0,   0,   0,   0,   0,\n",
       "          0,   0,   0,   0,   0,   0,   0,   0,   0,   0,   0,   0,   0,\n",
       "          0,   0],\n",
       "       [  0,   0,   0,   0,   0,   0,   0,   0,   0,   0,   0,   0,   0,\n",
       "          0,   0,   0,   0,   0,   0,   0,   0,   0,   0,   0,   0,   0,\n",
       "          0,   0],\n",
       "       [  0,   0,   0,   0,   0,   0,   0,   0,   0,   0,   0,   0,   0,\n",
       "          0,   0,   0,   0,   0,   0,   0,   0,   0,   0,   0,   0,   0,\n",
       "          0,   0],\n",
       "       [  0,   0,   0,   0,   0,   0,   0,   0,   0,   0,   0,   0,  55,\n",
       "        148, 210, 253, 253, 113,  87, 148,  55,   0,   0,   0,   0,   0,\n",
       "          0,   0],\n",
       "       [  0,   0,   0,   0,   0,   0,   0,   0,   0,   0,   0,  87, 232,\n",
       "        252, 253, 189, 210, 252, 252, 253, 168,   0,   0,   0,   0,   0,\n",
       "          0,   0],\n",
       "       [  0,   0,   0,   0,   0,   0,   0,   0,   0,   4,  57, 242, 252,\n",
       "        190,  65,   5,  12, 182, 252, 253, 116,   0,   0,   0,   0,   0,\n",
       "          0,   0],\n",
       "       [  0,   0,   0,   0,   0,   0,   0,   0,   0,  96, 252, 252, 183,\n",
       "         14,   0,   0,  92, 252, 252, 225,  21,   0,   0,   0,   0,   0,\n",
       "          0,   0],\n",
       "       [  0,   0,   0,   0,   0,   0,   0,   0, 132, 253, 252, 146,  14,\n",
       "          0,   0,   0, 215, 252, 252,  79,   0,   0,   0,   0,   0,   0,\n",
       "          0,   0],\n",
       "       [  0,   0,   0,   0,   0,   0,   0, 126, 253, 247, 176,   9,   0,\n",
       "          0,   8,  78, 245, 253, 129,   0,   0,   0,   0,   0,   0,   0,\n",
       "          0,   0],\n",
       "       [  0,   0,   0,   0,   0,   0,  16, 232, 252, 176,   0,   0,   0,\n",
       "         36, 201, 252, 252, 169,  11,   0,   0,   0,   0,   0,   0,   0,\n",
       "          0,   0],\n",
       "       [  0,   0,   0,   0,   0,   0,  22, 252, 252,  30,  22, 119, 197,\n",
       "        241, 253, 252, 251,  77,   0,   0,   0,   0,   0,   0,   0,   0,\n",
       "          0,   0],\n",
       "       [  0,   0,   0,   0,   0,   0,  16, 231, 252, 253, 252, 252, 252,\n",
       "        226, 227, 252, 231,   0,   0,   0,   0,   0,   0,   0,   0,   0,\n",
       "          0,   0],\n",
       "       [  0,   0,   0,   0,   0,   0,   0,  55, 235, 253, 217, 138,  42,\n",
       "         24, 192, 252, 143,   0,   0,   0,   0,   0,   0,   0,   0,   0,\n",
       "          0,   0],\n",
       "       [  0,   0,   0,   0,   0,   0,   0,   0,   0,   0,   0,   0,   0,\n",
       "         62, 255, 253, 109,   0,   0,   0,   0,   0,   0,   0,   0,   0,\n",
       "          0,   0],\n",
       "       [  0,   0,   0,   0,   0,   0,   0,   0,   0,   0,   0,   0,   0,\n",
       "         71, 253, 252,  21,   0,   0,   0,   0,   0,   0,   0,   0,   0,\n",
       "          0,   0],\n",
       "       [  0,   0,   0,   0,   0,   0,   0,   0,   0,   0,   0,   0,   0,\n",
       "          0, 253, 252,  21,   0,   0,   0,   0,   0,   0,   0,   0,   0,\n",
       "          0,   0],\n",
       "       [  0,   0,   0,   0,   0,   0,   0,   0,   0,   0,   0,   0,   0,\n",
       "         71, 253, 252,  21,   0,   0,   0,   0,   0,   0,   0,   0,   0,\n",
       "          0,   0],\n",
       "       [  0,   0,   0,   0,   0,   0,   0,   0,   0,   0,   0,   0,   0,\n",
       "        106, 253, 252,  21,   0,   0,   0,   0,   0,   0,   0,   0,   0,\n",
       "          0,   0],\n",
       "       [  0,   0,   0,   0,   0,   0,   0,   0,   0,   0,   0,   0,   0,\n",
       "         45, 255, 253,  21,   0,   0,   0,   0,   0,   0,   0,   0,   0,\n",
       "          0,   0],\n",
       "       [  0,   0,   0,   0,   0,   0,   0,   0,   0,   0,   0,   0,   0,\n",
       "          0, 218, 252,  56,   0,   0,   0,   0,   0,   0,   0,   0,   0,\n",
       "          0,   0],\n",
       "       [  0,   0,   0,   0,   0,   0,   0,   0,   0,   0,   0,   0,   0,\n",
       "          0,  96, 252, 189,  42,   0,   0,   0,   0,   0,   0,   0,   0,\n",
       "          0,   0],\n",
       "       [  0,   0,   0,   0,   0,   0,   0,   0,   0,   0,   0,   0,   0,\n",
       "          0,  14, 184, 252, 170,  11,   0,   0,   0,   0,   0,   0,   0,\n",
       "          0,   0],\n",
       "       [  0,   0,   0,   0,   0,   0,   0,   0,   0,   0,   0,   0,   0,\n",
       "          0,   0,  14, 147, 252,  42,   0,   0,   0,   0,   0,   0,   0,\n",
       "          0,   0],\n",
       "       [  0,   0,   0,   0,   0,   0,   0,   0,   0,   0,   0,   0,   0,\n",
       "          0,   0,   0,   0,   0,   0,   0,   0,   0,   0,   0,   0,   0,\n",
       "          0,   0]], dtype=uint8)"
      ]
     },
     "execution_count": 5,
     "metadata": {},
     "output_type": "execute_result"
    }
   ],
   "source": [
    "num = 9\n",
    "first_index = np.where(y_train==num)[0][0]\n",
    "x_train[first_index]"
   ]
  },
  {
   "cell_type": "code",
   "execution_count": 6,
   "metadata": {},
   "outputs": [
    {
     "data": {
      "text/plain": [
       "<matplotlib.image.AxesImage at 0x287c35c4b88>"
      ]
     },
     "execution_count": 6,
     "metadata": {},
     "output_type": "execute_result"
    },
    {
     "data": {
      "image/png": "[encoded data removed]",
      "text/plain": [
       "<Figure size 432x288 with 1 Axes>"
      ]
     },
     "metadata": {
      "needs_background": "light"
     },
     "output_type": "display_data"
    }
   ],
   "source": [
    "plt.imshow(x_train[first_index])"
   ]
  },
  {
   "cell_type": "code",
   "execution_count": 7,
   "metadata": {},
   "outputs": [
    {
     "data": {
      "text/plain": [
       "array([[  0,   0,   0,   0,   0,   0,   0,   0,   0,   0,   0,   0,   0,\n",
       "          0,   0,   0,   0,   0,   0,   0,   0,   0,   0,   0,   0,   0,\n",
       "          0,   0],\n",
       "       [  0,   0,   0,   0,   0,   0,   0,   0,   0,   0,   0,   0,   0,\n",
       "          0,   0,   0,   0,   0,   0,   0,   0,   0,   0,   0,   0,   0,\n",
       "          0,   0],\n",
       "       [  0,   0,   0,   0,   0,   0,   0,   0,   0,   0,   0,   0,   0,\n",
       "          0,   0,   0,   0,   0,   0,   0,   0,   0,   0,   0,   0,   0,\n",
       "          0,   0],\n",
       "       [  0,   0,   0,   0,   0,   0,   0,   0,   0,   0,   0,   0,   0,\n",
       "          0,   0,   0,   0,   0,   0,   0,   0,   0,   0,   0,   0,   0,\n",
       "          0,   0],\n",
       "       [  0,   0,   0,   0,   0,   0,   0,   0,   0,   0,   0,   0,   0,\n",
       "          0,   0,   0,   0,   0,   0,   0,   0,   0,   0,   0,   0,   0,\n",
       "          0,   0],\n",
       "       [  0,   0,   0,   0,   0,   0,   0,   0,   0,   0,   0,   0,   0,\n",
       "          0,   0,   0,   0,   0,   0,   0,   0,   0,   0,   0,   0,   0,\n",
       "          0,   0],\n",
       "       [  0,   0,   0,   0,   0,   0,   0,   0,   0,   0,   0,  14, 149,\n",
       "        193,   5,   0,   0,   0,   0,   0,   0,   0,   0,   0,   0,   0,\n",
       "          0,   0],\n",
       "       [  0,   0,   0,   0,   0,   0,   0,   0,   0,   0,  91, 224, 253,\n",
       "        253,  19,   0,   0,   0,   0,   0,   0,   0,   0,   0,   0,   0,\n",
       "          0,   0],\n",
       "       [  0,   0,   0,   0,   0,   0,   0,   0,   0,  28, 235, 254, 253,\n",
       "        253, 166,  18,   0,   0,   0,   0,   0,   0,   0,   0,   0,   0,\n",
       "          0,   0],\n",
       "       [  0,   0,   0,   0,   0,   0,   0,   0,   0, 144, 253, 254, 253,\n",
       "        253, 253, 238, 115,   6,   0,   0,   0,   0,   0,   0,   0,   0,\n",
       "          0,   0],\n",
       "       [  0,   0,   0,   0,   0,   0,   0,   0,  31, 241, 253, 208, 185,\n",
       "        253, 253, 253, 231,  24,   0,   0,   0,   0,   0,   0,   0,   0,\n",
       "          0,   0],\n",
       "       [  0,   0,   0,   0,   0,   0,   0,   0,  79, 254, 193,   0,   8,\n",
       "         98, 219, 254, 255, 201,  18,   0,   0,   0,   0,   0,   0,   0,\n",
       "          0,   0],\n",
       "       [  0,   0,   0,   0,   0,   0,   0,   0,  86, 253,  80,   0,   0,\n",
       "          0, 182, 253, 254, 191,  12,   0,   0,   0,   0,   0,   0,   0,\n",
       "          0,   0],\n",
       "       [  0,   0,   0,   0,   0,   0,   0,   0, 175, 253, 155,   0,   0,\n",
       "          0, 234, 253, 254, 135,   0,   0,   0,   0,   0,   0,   0,   0,\n",
       "          0,   0],\n",
       "       [  0,   0,   0,   0,   0,   0,   0,   0,  86, 253, 208,  40,  85,\n",
       "        166, 251, 237, 254, 236,  42,   0,   0,   0,   0,   0,   0,   0,\n",
       "          0,   0],\n",
       "       [  0,   0,   0,   0,   0,   0,   0,   0,  18, 238, 253, 254, 253,\n",
       "        253, 185,  36, 216, 253, 152,   0,   0,   0,   0,   0,   0,   0,\n",
       "          0,   0],\n",
       "       [  0,   0,   0,   0,   0,   0,   0,   0,   0,  68, 240, 255, 254,\n",
       "        145,   8,   0, 134, 254, 223,  35,   0,   0,   0,   0,   0,   0,\n",
       "          0,   0],\n",
       "       [  0,   0,   0,   0,   0,   0,   0,   0,   0,   0,  68, 158, 142,\n",
       "         12,   0,   0,   9, 175, 253, 161,   0,   0,   0,   0,   0,   0,\n",
       "          0,   0],\n",
       "       [  0,   0,   0,   0,   0,   0,   0,   0,   0,   0,   0,   0,   0,\n",
       "          0,   0,   0,   0,  88, 253, 226,  18,   0,   0,   0,   0,   0,\n",
       "          0,   0],\n",
       "       [  0,   0,   0,   0,   0,   0,   0,   0,   0,   0,   0,   0,   0,\n",
       "          0,   0,   0,   0,   2, 166, 253, 126,   0,   0,   0,   0,   0,\n",
       "          0,   0],\n",
       "       [  0,   0,   0,   0,   0,   0,   0,   0,   0,   0,   0,   0,   0,\n",
       "          0,   0,   0,   0,   0,  48, 245, 253,  38,   0,   0,   0,   0,\n",
       "          0,   0],\n",
       "       [  0,   0,   0,   0,   0,   0,   0,   0,   0,   0,   0,   0,   0,\n",
       "          0,   0,   0,   0,   0,   0, 115, 254, 172,   9,   0,   0,   0,\n",
       "          0,   0],\n",
       "       [  0,   0,   0,   0,   0,   0,   0,   0,   0,   0,   0,   0,   0,\n",
       "          0,   0,   0,   0,   0,   0,  21, 218, 254,  46,   0,   0,   0,\n",
       "          0,   0],\n",
       "       [  0,   0,   0,   0,   0,   0,   0,   0,   0,   0,   0,   0,   0,\n",
       "          0,   0,   0,   0,   0,   0,   0,  30, 254, 165,   0,   0,   0,\n",
       "          0,   0],\n",
       "       [  0,   0,   0,   0,   0,   0,   0,   0,   0,   0,   0,   0,   0,\n",
       "          0,   0,   0,   0,   0,   0,   0,   0, 186, 244,  42,   0,   0,\n",
       "          0,   0],\n",
       "       [  0,   0,   0,   0,   0,   0,   0,   0,   0,   0,   0,   0,   0,\n",
       "          0,   0,   0,   0,   0,   0,   0,   0,  14, 223,  78,   0,   0,\n",
       "          0,   0],\n",
       "       [  0,   0,   0,   0,   0,   0,   0,   0,   0,   0,   0,   0,   0,\n",
       "          0,   0,   0,   0,   0,   0,   0,   0,   0,   0,   0,   0,   0,\n",
       "          0,   0],\n",
       "       [  0,   0,   0,   0,   0,   0,   0,   0,   0,   0,   0,   0,   0,\n",
       "          0,   0,   0,   0,   0,   0,   0,   0,   0,   0,   0,   0,   0,\n",
       "          0,   0]], dtype=uint8)"
      ]
     },
     "execution_count": 7,
     "metadata": {},
     "output_type": "execute_result"
    }
   ],
   "source": [
    "first_index = np.where(y_test==num)[0][0]\n",
    "x_test[first_index]"
   ]
  },
  {
   "cell_type": "code",
   "execution_count": 8,
   "metadata": {},
   "outputs": [
    {
     "data": {
      "text/plain": [
       "<matplotlib.image.AxesImage at 0x287c3680548>"
      ]
     },
     "execution_count": 8,
     "metadata": {},
     "output_type": "execute_result"
    },
    {
     "data": {
      "image/png": "[encoded data removed]",
      "text/plain": [
       "<Figure size 432x288 with 1 Axes>"
      ]
     },
     "metadata": {
      "needs_background": "light"
     },
     "output_type": "display_data"
    }
   ],
   "source": [
    "plt.imshow(x_test[first_index])"
   ]
  },
  {
   "cell_type": "code",
   "execution_count": 9,
   "metadata": {},
   "outputs": [
    {
     "data": {
      "text/plain": [
       "{0: 5923,\n",
       " 1: 6742,\n",
       " 2: 5958,\n",
       " 3: 6131,\n",
       " 4: 5842,\n",
       " 5: 5421,\n",
       " 6: 5918,\n",
       " 7: 6265,\n",
       " 8: 5851,\n",
       " 9: 5949}"
      ]
     },
     "execution_count": 9,
     "metadata": {},
     "output_type": "execute_result"
    }
   ],
   "source": [
    "unique, counts = np.unique(y_train, return_counts=True)\n",
    "dict(zip(unique, counts))"
   ]
  },
  {
   "cell_type": "code",
   "execution_count": 10,
   "metadata": {},
   "outputs": [
    {
     "data": {
      "text/plain": [
       "{0: 980,\n",
       " 1: 1135,\n",
       " 2: 1032,\n",
       " 3: 1010,\n",
       " 4: 982,\n",
       " 5: 892,\n",
       " 6: 958,\n",
       " 7: 1028,\n",
       " 8: 974,\n",
       " 9: 1009}"
      ]
     },
     "execution_count": 10,
     "metadata": {},
     "output_type": "execute_result"
    }
   ],
   "source": [
    "unique, counts = np.unique(y_test, return_counts=True)\n",
    "dict(zip(unique, counts))"
   ]
  },
  {
   "cell_type": "markdown",
   "metadata": {},
   "source": [
    "* Both train and test sets are well-balanced in regard to the number of values in each digit"
   ]
  },
  {
   "cell_type": "markdown",
   "metadata": {},
   "source": [
    "## 2.1 Data pre-processing: Normalization + Gaussian Blurring"
   ]
  },
  {
   "cell_type": "code",
   "execution_count": 11,
   "metadata": {},
   "outputs": [],
   "source": [
    "x_train = x_train.astype('float32') # Conversion to float type from integer type.\n",
    "x_test = x_test.astype('float32')\n",
    "x_train /= 255.0 # Division by 255\n",
    "x_test /= 255.0"
   ]
  },
  {
   "cell_type": "code",
   "execution_count": 12,
   "metadata": {},
   "outputs": [],
   "source": [
    "import cv2\n",
    "\n",
    "for idx, line in enumerate(x_train):\n",
    "    x_train[idx] = cv2.GaussianBlur(line, (5, 5), 0)\n",
    "for idx, line in enumerate(x_test):\n",
    "    x_test[idx] = cv2.GaussianBlur(line, (5, 5), 0)"
   ]
  },
  {
   "cell_type": "markdown",
   "metadata": {},
   "source": [
    "## 2.2 Visualize data after pre-processing"
   ]
  },
  {
   "cell_type": "code",
   "execution_count": 13,
   "metadata": {},
   "outputs": [
    {
     "data": {
      "text/plain": [
       "array([[0.00000000e+00, 0.00000000e+00, 0.00000000e+00, 0.00000000e+00,\n",
       "        0.00000000e+00, 0.00000000e+00, 0.00000000e+00, 0.00000000e+00,\n",
       "        0.00000000e+00, 0.00000000e+00, 0.00000000e+00, 0.00000000e+00,\n",
       "        0.00000000e+00, 0.00000000e+00, 0.00000000e+00, 0.00000000e+00,\n",
       "        0.00000000e+00, 0.00000000e+00, 0.00000000e+00, 0.00000000e+00,\n",
       "        0.00000000e+00, 0.00000000e+00, 0.00000000e+00, 0.00000000e+00,\n",
       "        0.00000000e+00, 0.00000000e+00, 0.00000000e+00, 0.00000000e+00],\n",
       "       [0.00000000e+00, 0.00000000e+00, 0.00000000e+00, 0.00000000e+00,\n",
       "        0.00000000e+00, 0.00000000e+00, 0.00000000e+00, 0.00000000e+00,\n",
       "        0.00000000e+00, 0.00000000e+00, 0.00000000e+00, 0.00000000e+00,\n",
       "        0.00000000e+00, 0.00000000e+00, 0.00000000e+00, 0.00000000e+00,\n",
       "        0.00000000e+00, 0.00000000e+00, 0.00000000e+00, 0.00000000e+00,\n",
       "        0.00000000e+00, 0.00000000e+00, 0.00000000e+00, 0.00000000e+00,\n",
       "        0.00000000e+00, 0.00000000e+00, 0.00000000e+00, 0.00000000e+00],\n",
       "       [0.00000000e+00, 0.00000000e+00, 0.00000000e+00, 0.00000000e+00,\n",
       "        0.00000000e+00, 0.00000000e+00, 0.00000000e+00, 0.00000000e+00,\n",
       "        0.00000000e+00, 0.00000000e+00, 0.00000000e+00, 0.00000000e+00,\n",
       "        0.00000000e+00, 0.00000000e+00, 0.00000000e+00, 0.00000000e+00,\n",
       "        0.00000000e+00, 0.00000000e+00, 0.00000000e+00, 0.00000000e+00,\n",
       "        0.00000000e+00, 0.00000000e+00, 0.00000000e+00, 0.00000000e+00,\n",
       "        0.00000000e+00, 0.00000000e+00, 0.00000000e+00, 0.00000000e+00],\n",
       "       [0.00000000e+00, 0.00000000e+00, 0.00000000e+00, 0.00000000e+00,\n",
       "        0.00000000e+00, 0.00000000e+00, 0.00000000e+00, 0.00000000e+00,\n",
       "        0.00000000e+00, 0.00000000e+00, 0.00000000e+00, 0.00000000e+00,\n",
       "        0.00000000e+00, 0.00000000e+00, 0.00000000e+00, 0.00000000e+00,\n",
       "        0.00000000e+00, 0.00000000e+00, 0.00000000e+00, 0.00000000e+00,\n",
       "        0.00000000e+00, 0.00000000e+00, 0.00000000e+00, 0.00000000e+00,\n",
       "        0.00000000e+00, 0.00000000e+00, 0.00000000e+00, 0.00000000e+00],\n",
       "       [0.00000000e+00, 0.00000000e+00, 0.00000000e+00, 0.00000000e+00,\n",
       "        0.00000000e+00, 0.00000000e+00, 0.00000000e+00, 0.00000000e+00,\n",
       "        0.00000000e+00, 0.00000000e+00, 0.00000000e+00, 0.00000000e+00,\n",
       "        0.00000000e+00, 0.00000000e+00, 0.00000000e+00, 0.00000000e+00,\n",
       "        0.00000000e+00, 0.00000000e+00, 0.00000000e+00, 0.00000000e+00,\n",
       "        0.00000000e+00, 0.00000000e+00, 0.00000000e+00, 0.00000000e+00,\n",
       "        0.00000000e+00, 0.00000000e+00, 0.00000000e+00, 0.00000000e+00],\n",
       "       [0.00000000e+00, 0.00000000e+00, 0.00000000e+00, 0.00000000e+00,\n",
       "        0.00000000e+00, 0.00000000e+00, 0.00000000e+00, 0.00000000e+00,\n",
       "        0.00000000e+00, 0.00000000e+00, 8.42524518e-04, 5.63725503e-03,\n",
       "        1.73406862e-02, 3.37162986e-02, 4.85906862e-02, 5.56219332e-02,\n",
       "        5.02297804e-02, 3.73621322e-02, 2.87071094e-02, 2.40349267e-02,\n",
       "        1.54564958e-02, 5.63725503e-03, 8.42524518e-04, 0.00000000e+00,\n",
       "        0.00000000e+00, 0.00000000e+00, 0.00000000e+00, 0.00000000e+00],\n",
       "       [0.00000000e+00, 0.00000000e+00, 0.00000000e+00, 0.00000000e+00,\n",
       "        0.00000000e+00, 0.00000000e+00, 0.00000000e+00, 0.00000000e+00,\n",
       "        0.00000000e+00, 1.33272063e-03, 1.22549022e-02, 4.86213267e-02,\n",
       "        1.15333945e-01, 1.91973031e-01, 2.51409322e-01, 2.75949746e-01,\n",
       "        2.54978567e-01, 2.07689956e-01, 1.74724281e-01, 1.48988977e-01,\n",
       "        9.66299027e-02, 3.67187485e-02, 5.94362756e-03, 0.00000000e+00,\n",
       "        0.00000000e+00, 0.00000000e+00, 0.00000000e+00, 0.00000000e+00],\n",
       "       [0.00000000e+00, 0.00000000e+00, 0.00000000e+00, 0.00000000e+00,\n",
       "        0.00000000e+00, 0.00000000e+00, 0.00000000e+00, 6.12745134e-05,\n",
       "        1.11825985e-03, 1.28982849e-02, 6.47671595e-02, 1.82261035e-01,\n",
       "        3.39430124e-01, 4.71400112e-01, 5.41697323e-01, 5.58455884e-01,\n",
       "        5.35033643e-01, 4.93995100e-01, 4.63602960e-01, 4.04197305e-01,\n",
       "        2.61979163e-01, 1.01485908e-01, 1.71262268e-02, 0.00000000e+00,\n",
       "        0.00000000e+00, 0.00000000e+00, 0.00000000e+00, 0.00000000e+00],\n",
       "       [0.00000000e+00, 0.00000000e+00, 0.00000000e+00, 0.00000000e+00,\n",
       "        0.00000000e+00, 0.00000000e+00, 0.00000000e+00, 1.71568629e-03,\n",
       "        1.42156873e-02, 6.63909316e-02, 2.00658709e-01, 4.07077193e-01,\n",
       "        5.88173985e-01, 6.56556368e-01, 6.29580259e-01, 5.96476674e-01,\n",
       "        6.22702181e-01, 6.94010437e-01, 7.35431969e-01, 6.48866475e-01,\n",
       "        4.10324752e-01, 1.56234682e-01, 2.62408108e-02, 0.00000000e+00,\n",
       "        0.00000000e+00, 0.00000000e+00, 0.00000000e+00, 0.00000000e+00],\n",
       "       [0.00000000e+00, 0.00000000e+00, 0.00000000e+00, 0.00000000e+00,\n",
       "        0.00000000e+00, 0.00000000e+00, 2.02205894e-03, 1.82138477e-02,\n",
       "        7.71752447e-02, 2.12254912e-01, 4.20419723e-01, 6.14414871e-01,\n",
       "        6.72242641e-01, 5.74708879e-01, 4.32368279e-01, 3.90609711e-01,\n",
       "        5.21063149e-01, 7.35202193e-01, 8.42172146e-01, 7.18612134e-01,\n",
       "        4.21829045e-01, 1.48360908e-01, 2.30851714e-02, 0.00000000e+00,\n",
       "        0.00000000e+00, 0.00000000e+00, 0.00000000e+00, 0.00000000e+00],\n",
       "       [0.00000000e+00, 0.00000000e+00, 0.00000000e+00, 0.00000000e+00,\n",
       "        0.00000000e+00, 1.93014706e-03, 1.96844377e-02, 8.77910554e-02,\n",
       "        2.37714469e-01, 4.47487742e-01, 6.24433279e-01, 6.61443055e-01,\n",
       "        5.33593774e-01, 3.32153797e-01, 1.98636651e-01, 2.49923408e-01,\n",
       "        4.91421610e-01, 7.51102924e-01, 8.09788585e-01, 6.12852335e-01,\n",
       "        3.09145242e-01, 9.13449749e-02, 1.16115194e-02, 0.00000000e+00,\n",
       "        0.00000000e+00, 0.00000000e+00, 0.00000000e+00, 0.00000000e+00],\n",
       "       [0.00000000e+00, 0.00000000e+00, 0.00000000e+00, 0.00000000e+00,\n",
       "        2.45098054e-04, 1.22549022e-02, 7.80637264e-02, 2.41636038e-01,\n",
       "        4.72686887e-01, 6.53584599e-01, 6.70006156e-01, 5.16544104e-01,\n",
       "        3.02742034e-01, 1.51455268e-01, 1.40349269e-01, 3.12178314e-01,\n",
       "        5.94623148e-01, 7.70496249e-01, 6.88357890e-01, 4.23422217e-01,\n",
       "        1.68612137e-01, 3.71783078e-02, 3.06372554e-03, 0.00000000e+00,\n",
       "        0.00000000e+00, 0.00000000e+00, 0.00000000e+00, 0.00000000e+00],\n",
       "       [0.00000000e+00, 0.00000000e+00, 0.00000000e+00, 0.00000000e+00,\n",
       "        1.31740200e-03, 3.49264704e-02, 1.77175254e-01, 4.36703444e-01,\n",
       "        6.63296580e-01, 6.96461499e-01, 5.37714481e-01, 3.19745719e-01,\n",
       "        1.79090083e-01, 1.73023909e-01, 2.94960171e-01, 5.12285590e-01,\n",
       "        7.09329009e-01, 7.12178349e-01, 4.97211993e-01, 2.32429564e-01,\n",
       "        6.69117719e-02, 9.57414228e-03, 3.21691186e-04, 0.00000000e+00,\n",
       "        0.00000000e+00, 0.00000000e+00, 0.00000000e+00, 0.00000000e+00],\n",
       "       [0.00000000e+00, 0.00000000e+00, 0.00000000e+00, 0.00000000e+00,\n",
       "        3.06372577e-03, 6.02788031e-02, 2.70465702e-01, 5.81250012e-01,\n",
       "        7.38541663e-01, 6.26731038e-01, 4.14613992e-01, 2.90073514e-01,\n",
       "        2.96583951e-01, 4.06770825e-01, 5.79319835e-01, 7.37928867e-01,\n",
       "        7.60462582e-01, 5.78783691e-01, 3.00337017e-01, 9.79779363e-02,\n",
       "        1.76164228e-02, 1.21017161e-03, 0.00000000e+00, 0.00000000e+00,\n",
       "        0.00000000e+00, 0.00000000e+00, 0.00000000e+00, 0.00000000e+00],\n",
       "       [0.00000000e+00, 0.00000000e+00, 0.00000000e+00, 0.00000000e+00,\n",
       "        3.98284337e-03, 7.02359080e-02, 3.02634835e-01, 6.24540448e-01,\n",
       "        7.60615885e-01, 6.43167913e-01, 4.97947305e-01, 4.77757365e-01,\n",
       "        5.49984634e-01, 6.66099846e-01, 7.98743844e-01, 8.59083951e-01,\n",
       "        7.28477359e-01, 4.31985319e-01, 1.59742653e-01, 3.19087021e-02,\n",
       "        2.65012262e-03, 0.00000000e+00, 0.00000000e+00, 0.00000000e+00,\n",
       "        0.00000000e+00, 0.00000000e+00, 0.00000000e+00, 0.00000000e+00],\n",
       "       [0.00000000e+00, 0.00000000e+00, 0.00000000e+00, 0.00000000e+00,\n",
       "        3.06372577e-03, 5.58517165e-02, 2.49632359e-01, 5.44577181e-01,\n",
       "        7.29595542e-01, 7.20925272e-01, 6.50306404e-01, 6.17708325e-01,\n",
       "        6.29442394e-01, 7.03446746e-01, 8.20572913e-01, 8.40579093e-01,\n",
       "        6.37055755e-01, 3.09911191e-01, 8.11427757e-02, 7.98100512e-03,\n",
       "        1.68504906e-04, 0.00000000e+00, 0.00000000e+00, 0.00000000e+00,\n",
       "        0.00000000e+00, 0.00000000e+00, 0.00000000e+00, 0.00000000e+00],\n",
       "       [0.00000000e+00, 0.00000000e+00, 0.00000000e+00, 0.00000000e+00,\n",
       "        1.31740200e-03, 2.83394624e-02, 1.41084567e-01, 3.46507341e-01,\n",
       "        5.31587064e-01, 5.94807029e-01, 5.54212689e-01, 4.75704640e-01,\n",
       "        4.42892164e-01, 5.48575401e-01, 7.35891581e-01, 7.69071698e-01,\n",
       "        5.35814941e-01, 2.21476704e-01, 4.28615212e-02, 1.17953436e-03,\n",
       "        0.00000000e+00, 0.00000000e+00, 0.00000000e+00, 0.00000000e+00,\n",
       "        0.00000000e+00, 0.00000000e+00, 0.00000000e+00, 0.00000000e+00],\n",
       "       [0.00000000e+00, 0.00000000e+00, 0.00000000e+00, 0.00000000e+00,\n",
       "        2.45098054e-04, 7.88909290e-03, 4.73651960e-02, 1.34849876e-01,\n",
       "        2.32107848e-01, 2.77159929e-01, 2.54411757e-01, 2.02619478e-01,\n",
       "        2.23008573e-01, 4.22028184e-01, 6.86060071e-01, 7.14062452e-01,\n",
       "        4.49050218e-01, 1.57567412e-01, 2.39276960e-02, 0.00000000e+00,\n",
       "        0.00000000e+00, 0.00000000e+00, 0.00000000e+00, 0.00000000e+00,\n",
       "        0.00000000e+00, 0.00000000e+00, 0.00000000e+00, 0.00000000e+00],\n",
       "       [0.00000000e+00, 0.00000000e+00, 0.00000000e+00, 0.00000000e+00,\n",
       "        0.00000000e+00, 8.42524518e-04, 6.96997531e-03, 2.33302694e-02,\n",
       "        4.37959582e-02, 5.39062507e-02, 4.81464453e-02, 4.42095548e-02,\n",
       "        1.23958334e-01, 3.81985337e-01, 6.74663007e-01, 6.77159965e-01,\n",
       "        3.82950366e-01, 1.11458331e-01, 1.24080889e-02, 0.00000000e+00,\n",
       "        0.00000000e+00, 0.00000000e+00, 0.00000000e+00, 0.00000000e+00,\n",
       "        0.00000000e+00, 0.00000000e+00, 0.00000000e+00, 0.00000000e+00],\n",
       "       [0.00000000e+00, 0.00000000e+00, 0.00000000e+00, 0.00000000e+00,\n",
       "        0.00000000e+00, 0.00000000e+00, 0.00000000e+00, 0.00000000e+00,\n",
       "        0.00000000e+00, 0.00000000e+00, 0.00000000e+00, 1.12745101e-02,\n",
       "        1.07138477e-01, 3.77588868e-01, 6.70955837e-01, 6.56096876e-01,\n",
       "        3.48131120e-01, 8.77604187e-02, 6.49509858e-03, 0.00000000e+00,\n",
       "        0.00000000e+00, 0.00000000e+00, 0.00000000e+00, 0.00000000e+00,\n",
       "        0.00000000e+00, 0.00000000e+00, 0.00000000e+00, 0.00000000e+00],\n",
       "       [0.00000000e+00, 0.00000000e+00, 0.00000000e+00, 0.00000000e+00,\n",
       "        0.00000000e+00, 0.00000000e+00, 0.00000000e+00, 0.00000000e+00,\n",
       "        0.00000000e+00, 0.00000000e+00, 0.00000000e+00, 1.47977946e-02,\n",
       "        1.21231616e-01, 3.98728609e-01, 6.83700919e-01, 6.54227972e-01,\n",
       "        3.40042889e-01, 8.23682621e-02, 5.14705898e-03, 0.00000000e+00,\n",
       "        0.00000000e+00, 0.00000000e+00, 0.00000000e+00, 0.00000000e+00,\n",
       "        0.00000000e+00, 0.00000000e+00, 0.00000000e+00, 0.00000000e+00],\n",
       "       [0.00000000e+00, 0.00000000e+00, 0.00000000e+00, 0.00000000e+00,\n",
       "        0.00000000e+00, 0.00000000e+00, 0.00000000e+00, 0.00000000e+00,\n",
       "        0.00000000e+00, 0.00000000e+00, 0.00000000e+00, 1.68504901e-02,\n",
       "        1.28998160e-01, 4.09313768e-01, 6.89966261e-01, 6.56924009e-01,\n",
       "        3.42999369e-01, 8.45588297e-02, 5.68321114e-03, 0.00000000e+00,\n",
       "        0.00000000e+00, 0.00000000e+00, 0.00000000e+00, 0.00000000e+00,\n",
       "        0.00000000e+00, 0.00000000e+00, 0.00000000e+00, 0.00000000e+00],\n",
       "       [0.00000000e+00, 0.00000000e+00, 0.00000000e+00, 0.00000000e+00,\n",
       "        0.00000000e+00, 0.00000000e+00, 0.00000000e+00, 0.00000000e+00,\n",
       "        0.00000000e+00, 0.00000000e+00, 0.00000000e+00, 1.17187500e-02,\n",
       "        1.04518995e-01, 3.62745106e-01, 6.50030613e-01, 6.53538644e-01,\n",
       "        3.66835177e-01, 1.05177701e-01, 1.24387257e-02, 6.43382373e-04,\n",
       "        0.00000000e+00, 0.00000000e+00, 0.00000000e+00, 0.00000000e+00,\n",
       "        0.00000000e+00, 0.00000000e+00, 0.00000000e+00, 0.00000000e+00],\n",
       "       [0.00000000e+00, 0.00000000e+00, 0.00000000e+00, 0.00000000e+00,\n",
       "        0.00000000e+00, 0.00000000e+00, 0.00000000e+00, 0.00000000e+00,\n",
       "        0.00000000e+00, 0.00000000e+00, 0.00000000e+00, 4.38112766e-03,\n",
       "        6.31586984e-02, 2.69607842e-01, 5.56663632e-01, 6.45588279e-01,\n",
       "        4.42830861e-01, 1.81311280e-01, 4.39185053e-02, 5.85171580e-03,\n",
       "        1.68504906e-04, 0.00000000e+00, 0.00000000e+00, 0.00000000e+00,\n",
       "        0.00000000e+00, 0.00000000e+00, 0.00000000e+00, 0.00000000e+00],\n",
       "       [0.00000000e+00, 0.00000000e+00, 0.00000000e+00, 0.00000000e+00,\n",
       "        0.00000000e+00, 0.00000000e+00, 0.00000000e+00, 0.00000000e+00,\n",
       "        0.00000000e+00, 0.00000000e+00, 0.00000000e+00, 6.89338252e-04,\n",
       "        2.97028199e-02, 1.65885419e-01, 4.19117659e-01, 6.05683267e-01,\n",
       "        5.49586415e-01, 3.23330283e-01, 1.19270839e-01, 2.34068632e-02,\n",
       "        1.31740200e-03, 0.00000000e+00, 0.00000000e+00, 0.00000000e+00,\n",
       "        0.00000000e+00, 0.00000000e+00, 0.00000000e+00, 0.00000000e+00],\n",
       "       [0.00000000e+00, 0.00000000e+00, 0.00000000e+00, 0.00000000e+00,\n",
       "        0.00000000e+00, 0.00000000e+00, 0.00000000e+00, 0.00000000e+00,\n",
       "        0.00000000e+00, 0.00000000e+00, 0.00000000e+00, 0.00000000e+00,\n",
       "        1.05085783e-02, 7.91053921e-02, 2.55943626e-01, 4.76531863e-01,\n",
       "        5.64583361e-01, 4.31678951e-01, 2.00674012e-01, 4.79779392e-02,\n",
       "        3.58455908e-03, 0.00000000e+00, 0.00000000e+00, 0.00000000e+00,\n",
       "        0.00000000e+00, 0.00000000e+00, 0.00000000e+00, 0.00000000e+00],\n",
       "       [0.00000000e+00, 0.00000000e+00, 0.00000000e+00, 0.00000000e+00,\n",
       "        0.00000000e+00, 0.00000000e+00, 0.00000000e+00, 0.00000000e+00,\n",
       "        0.00000000e+00, 0.00000000e+00, 0.00000000e+00, 0.00000000e+00,\n",
       "        2.32843147e-03, 2.59497557e-02, 1.14613973e-01, 2.83609062e-01,\n",
       "        4.30974305e-01, 4.02236521e-01, 2.17493877e-01, 5.87928928e-02,\n",
       "        5.17769624e-03, 0.00000000e+00, 0.00000000e+00, 0.00000000e+00,\n",
       "        0.00000000e+00, 0.00000000e+00, 0.00000000e+00, 0.00000000e+00],\n",
       "       [0.00000000e+00, 0.00000000e+00, 0.00000000e+00, 0.00000000e+00,\n",
       "        0.00000000e+00, 0.00000000e+00, 0.00000000e+00, 0.00000000e+00,\n",
       "        0.00000000e+00, 0.00000000e+00, 0.00000000e+00, 0.00000000e+00,\n",
       "        4.28921572e-04, 9.06862784e-03, 5.77205904e-02, 1.84865206e-01,\n",
       "        3.34099293e-01, 3.48774493e-01, 2.03002438e-01, 5.80269620e-02,\n",
       "        5.48406877e-03, 0.00000000e+00, 0.00000000e+00, 0.00000000e+00,\n",
       "        0.00000000e+00, 0.00000000e+00, 0.00000000e+00, 0.00000000e+00]],\n",
       "      dtype=float32)"
      ]
     },
     "execution_count": 13,
     "metadata": {},
     "output_type": "execute_result"
    }
   ],
   "source": [
    "first_index = np.where(y_train==num)[0][0]\n",
    "x_train[first_index]"
   ]
  },
  {
   "cell_type": "code",
   "execution_count": 14,
   "metadata": {},
   "outputs": [
    {
     "data": {
      "text/plain": [
       "<matplotlib.image.AxesImage at 0x287d0a84748>"
      ]
     },
     "execution_count": 14,
     "metadata": {},
     "output_type": "execute_result"
    },
    {
     "data": {
      "image/png": "[encoded data removed]",
      "text/plain": [
       "<Figure size 432x288 with 1 Axes>"
      ]
     },
     "metadata": {
      "needs_background": "light"
     },
     "output_type": "display_data"
    }
   ],
   "source": [
    "plt.imshow(x_train[first_index])"
   ]
  },
  {
   "cell_type": "code",
   "execution_count": 15,
   "metadata": {},
   "outputs": [
    {
     "data": {
      "text/plain": [
       "array([[0.00000000e+00, 0.00000000e+00, 0.00000000e+00, 0.00000000e+00,\n",
       "        0.00000000e+00, 0.00000000e+00, 0.00000000e+00, 0.00000000e+00,\n",
       "        0.00000000e+00, 0.00000000e+00, 0.00000000e+00, 0.00000000e+00,\n",
       "        0.00000000e+00, 0.00000000e+00, 0.00000000e+00, 0.00000000e+00,\n",
       "        0.00000000e+00, 0.00000000e+00, 0.00000000e+00, 0.00000000e+00,\n",
       "        0.00000000e+00, 0.00000000e+00, 0.00000000e+00, 0.00000000e+00,\n",
       "        0.00000000e+00, 0.00000000e+00, 0.00000000e+00, 0.00000000e+00],\n",
       "       [0.00000000e+00, 0.00000000e+00, 0.00000000e+00, 0.00000000e+00,\n",
       "        0.00000000e+00, 0.00000000e+00, 0.00000000e+00, 0.00000000e+00,\n",
       "        0.00000000e+00, 0.00000000e+00, 0.00000000e+00, 0.00000000e+00,\n",
       "        0.00000000e+00, 0.00000000e+00, 0.00000000e+00, 0.00000000e+00,\n",
       "        0.00000000e+00, 0.00000000e+00, 0.00000000e+00, 0.00000000e+00,\n",
       "        0.00000000e+00, 0.00000000e+00, 0.00000000e+00, 0.00000000e+00,\n",
       "        0.00000000e+00, 0.00000000e+00, 0.00000000e+00, 0.00000000e+00],\n",
       "       [0.00000000e+00, 0.00000000e+00, 0.00000000e+00, 0.00000000e+00,\n",
       "        0.00000000e+00, 0.00000000e+00, 0.00000000e+00, 0.00000000e+00,\n",
       "        0.00000000e+00, 0.00000000e+00, 0.00000000e+00, 0.00000000e+00,\n",
       "        0.00000000e+00, 0.00000000e+00, 0.00000000e+00, 0.00000000e+00,\n",
       "        0.00000000e+00, 0.00000000e+00, 0.00000000e+00, 0.00000000e+00,\n",
       "        0.00000000e+00, 0.00000000e+00, 0.00000000e+00, 0.00000000e+00,\n",
       "        0.00000000e+00, 0.00000000e+00, 0.00000000e+00, 0.00000000e+00],\n",
       "       [0.00000000e+00, 0.00000000e+00, 0.00000000e+00, 0.00000000e+00,\n",
       "        0.00000000e+00, 0.00000000e+00, 0.00000000e+00, 0.00000000e+00,\n",
       "        0.00000000e+00, 0.00000000e+00, 0.00000000e+00, 0.00000000e+00,\n",
       "        0.00000000e+00, 0.00000000e+00, 0.00000000e+00, 0.00000000e+00,\n",
       "        0.00000000e+00, 0.00000000e+00, 0.00000000e+00, 0.00000000e+00,\n",
       "        0.00000000e+00, 0.00000000e+00, 0.00000000e+00, 0.00000000e+00,\n",
       "        0.00000000e+00, 0.00000000e+00, 0.00000000e+00, 0.00000000e+00],\n",
       "       [0.00000000e+00, 0.00000000e+00, 0.00000000e+00, 0.00000000e+00,\n",
       "        0.00000000e+00, 0.00000000e+00, 0.00000000e+00, 0.00000000e+00,\n",
       "        0.00000000e+00, 2.14460786e-04, 3.14031867e-03, 1.33731626e-02,\n",
       "        2.64552701e-02, 2.73897070e-02, 1.45680159e-02, 3.26286769e-03,\n",
       "        7.65931400e-05, 0.00000000e+00, 0.00000000e+00, 0.00000000e+00,\n",
       "        0.00000000e+00, 0.00000000e+00, 0.00000000e+00, 0.00000000e+00,\n",
       "        0.00000000e+00, 0.00000000e+00, 0.00000000e+00, 0.00000000e+00],\n",
       "       [0.00000000e+00, 0.00000000e+00, 0.00000000e+00, 0.00000000e+00,\n",
       "        0.00000000e+00, 0.00000000e+00, 0.00000000e+00, 0.00000000e+00,\n",
       "        1.39399513e-03, 9.86519642e-03, 3.85263488e-02, 9.90349352e-02,\n",
       "        1.59987748e-01, 1.52910545e-01, 7.93964490e-02, 1.80912986e-02,\n",
       "        5.97426493e-04, 0.00000000e+00, 0.00000000e+00, 0.00000000e+00,\n",
       "        0.00000000e+00, 0.00000000e+00, 0.00000000e+00, 0.00000000e+00,\n",
       "        0.00000000e+00, 0.00000000e+00, 0.00000000e+00, 0.00000000e+00],\n",
       "       [0.00000000e+00, 0.00000000e+00, 0.00000000e+00, 0.00000000e+00,\n",
       "        0.00000000e+00, 0.00000000e+00, 0.00000000e+00, 4.28921572e-04,\n",
       "        1.08915437e-02, 5.81801459e-02, 1.65456504e-01, 3.19960177e-01,\n",
       "        4.35860902e-01, 3.90839487e-01, 2.07644001e-01, 5.54381087e-02,\n",
       "        5.26960846e-03, 2.75735307e-04, 0.00000000e+00, 0.00000000e+00,\n",
       "        0.00000000e+00, 0.00000000e+00, 0.00000000e+00, 0.00000000e+00,\n",
       "        0.00000000e+00, 0.00000000e+00, 0.00000000e+00, 0.00000000e+00],\n",
       "       [0.00000000e+00, 0.00000000e+00, 0.00000000e+00, 0.00000000e+00,\n",
       "        0.00000000e+00, 0.00000000e+00, 0.00000000e+00, 3.92156886e-03,\n",
       "        4.23253663e-02, 1.70986533e-01, 3.90885413e-01, 6.17386699e-01,\n",
       "        7.34742641e-01, 6.43841982e-01, 3.86948526e-01, 1.54488355e-01,\n",
       "        4.60324772e-02, 1.23468135e-02, 2.12928932e-03, 9.19117665e-05,\n",
       "        0.00000000e+00, 0.00000000e+00, 0.00000000e+00, 0.00000000e+00,\n",
       "        0.00000000e+00, 0.00000000e+00, 0.00000000e+00, 0.00000000e+00],\n",
       "       [0.00000000e+00, 0.00000000e+00, 0.00000000e+00, 0.00000000e+00,\n",
       "        0.00000000e+00, 0.00000000e+00, 4.74877452e-04, 1.69883575e-02,\n",
       "        1.09757960e-01, 3.34681392e-01, 6.23667359e-01, 8.36106062e-01,\n",
       "        9.07184422e-01, 8.23697984e-01, 6.10033691e-01, 3.68351728e-01,\n",
       "        1.82781860e-01, 6.68658093e-02, 1.35263484e-02, 7.35294132e-04,\n",
       "        0.00000000e+00, 0.00000000e+00, 0.00000000e+00, 0.00000000e+00,\n",
       "        0.00000000e+00, 0.00000000e+00, 0.00000000e+00, 0.00000000e+00],\n",
       "       [0.00000000e+00, 0.00000000e+00, 0.00000000e+00, 0.00000000e+00,\n",
       "        0.00000000e+00, 0.00000000e+00, 3.10968142e-03, 4.60477956e-02,\n",
       "        2.10600495e-01, 4.99203414e-01, 7.57015944e-01, 8.70144010e-01,\n",
       "        8.93504858e-01, 8.81924033e-01, 8.06188762e-01, 6.43780589e-01,\n",
       "        4.14522052e-01, 1.88602939e-01, 5.06893359e-02, 6.20404445e-03,\n",
       "        2.75735307e-04, 0.00000000e+00, 0.00000000e+00, 0.00000000e+00,\n",
       "        0.00000000e+00, 0.00000000e+00, 0.00000000e+00, 0.00000000e+00],\n",
       "       [0.00000000e+00, 0.00000000e+00, 0.00000000e+00, 0.00000000e+00,\n",
       "        0.00000000e+00, 0.00000000e+00, 9.00735334e-03, 8.68719369e-02,\n",
       "        3.12821686e-01, 6.01286769e-01, 7.35983431e-01, 7.00030625e-01,\n",
       "        6.82981014e-01, 7.65456498e-01, 8.54457736e-01, 8.32965732e-01,\n",
       "        6.47028208e-01, 3.60768974e-01, 1.26776963e-01, 2.29626223e-02,\n",
       "        1.28676475e-03, 0.00000000e+00, 0.00000000e+00, 0.00000000e+00,\n",
       "        0.00000000e+00, 0.00000000e+00, 0.00000000e+00, 0.00000000e+00],\n",
       "       [0.00000000e+00, 0.00000000e+00, 0.00000000e+00, 0.00000000e+00,\n",
       "        0.00000000e+00, 0.00000000e+00, 1.71109065e-02, 1.28140315e-01,\n",
       "        3.85845602e-01, 6.20833397e-01, 6.04748726e-01, 4.29258585e-01,\n",
       "        3.74402583e-01, 5.29580235e-01, 7.61243939e-01, 8.85631204e-01,\n",
       "        7.92202830e-01, 5.09512901e-01, 2.08379284e-01, 4.33670357e-02,\n",
       "        2.38970597e-03, 0.00000000e+00, 0.00000000e+00, 0.00000000e+00,\n",
       "        0.00000000e+00, 0.00000000e+00, 0.00000000e+00, 0.00000000e+00],\n",
       "       [0.00000000e+00, 0.00000000e+00, 0.00000000e+00, 0.00000000e+00,\n",
       "        0.00000000e+00, 0.00000000e+00, 2.52604187e-02, 1.62928924e-01,\n",
       "        4.34849918e-01, 6.19117677e-01, 5.07061839e-01, 2.58563131e-01,\n",
       "        1.80591315e-01, 3.67493868e-01, 6.76822901e-01, 8.82184446e-01,\n",
       "        8.42647016e-01, 5.73835790e-01, 2.47564346e-01, 5.35232835e-02,\n",
       "        2.84926477e-03, 0.00000000e+00, 0.00000000e+00, 0.00000000e+00,\n",
       "        0.00000000e+00, 0.00000000e+00, 0.00000000e+00, 0.00000000e+00],\n",
       "       [0.00000000e+00, 0.00000000e+00, 0.00000000e+00, 0.00000000e+00,\n",
       "        0.00000000e+00, 0.00000000e+00, 2.81096809e-02, 1.74234077e-01,\n",
       "        4.54564989e-01, 6.44454658e-01, 5.42218149e-01, 3.07123184e-01,\n",
       "        2.35753700e-01, 4.11090672e-01, 6.89338207e-01, 8.71063173e-01,\n",
       "        8.43259811e-01, 6.01286769e-01, 2.79273927e-01, 6.91789240e-02,\n",
       "        5.91299031e-03, 0.00000000e+00, 0.00000000e+00, 0.00000000e+00,\n",
       "        0.00000000e+00, 0.00000000e+00, 0.00000000e+00, 0.00000000e+00],\n",
       "       [0.00000000e+00, 0.00000000e+00, 0.00000000e+00, 0.00000000e+00,\n",
       "        0.00000000e+00, 0.00000000e+00, 2.10477952e-02, 1.42447919e-01,\n",
       "        4.08333361e-01, 6.52956486e-01, 6.67984068e-01, 5.35018384e-01,\n",
       "        4.88419116e-01, 5.79840660e-01, 7.00612724e-01, 7.84436285e-01,\n",
       "        7.99555838e-01, 6.57046556e-01, 3.70006114e-01, 1.22594975e-01,\n",
       "        1.89185049e-02, 5.36151987e-04, 0.00000000e+00, 0.00000000e+00,\n",
       "        0.00000000e+00, 0.00000000e+00, 0.00000000e+00, 0.00000000e+00],\n",
       "       [0.00000000e+00, 0.00000000e+00, 0.00000000e+00, 0.00000000e+00,\n",
       "        0.00000000e+00, 0.00000000e+00, 9.60478000e-03, 8.38388503e-02,\n",
       "        2.93428302e-01, 5.71262300e-01, 7.37576604e-01, 7.52251863e-01,\n",
       "        7.13128090e-01, 6.51148856e-01, 5.69408655e-01, 5.67218125e-01,\n",
       "        6.75413609e-01, 7.01439917e-01, 5.02711356e-01, 2.22028196e-01,\n",
       "        5.25275767e-02, 4.61090729e-03, 0.00000000e+00, 0.00000000e+00,\n",
       "        0.00000000e+00, 0.00000000e+00, 0.00000000e+00, 0.00000000e+00],\n",
       "       [0.00000000e+00, 0.00000000e+00, 0.00000000e+00, 0.00000000e+00,\n",
       "        0.00000000e+00, 0.00000000e+00, 2.42034323e-03, 3.43903229e-02,\n",
       "        1.58272073e-01, 3.86887252e-01, 6.16773903e-01, 7.27650166e-01,\n",
       "        6.79549694e-01, 5.06847441e-01, 3.26118261e-01, 3.05300236e-01,\n",
       "        4.87193644e-01, 6.68887913e-01, 6.13572299e-01, 3.54227930e-01,\n",
       "        1.17662378e-01, 1.76470596e-02, 2.75735307e-04, 0.00000000e+00,\n",
       "        0.00000000e+00, 0.00000000e+00, 0.00000000e+00, 0.00000000e+00],\n",
       "       [0.00000000e+00, 0.00000000e+00, 0.00000000e+00, 0.00000000e+00,\n",
       "        0.00000000e+00, 0.00000000e+00, 2.75735307e-04, 8.91544111e-03,\n",
       "        5.77359125e-02, 1.81341916e-01, 3.49157512e-01, 4.55193043e-01,\n",
       "        4.14705902e-01, 2.61029422e-01, 1.22441798e-01, 1.20802701e-01,\n",
       "        3.00689340e-01, 5.59451580e-01, 6.61580920e-01, 4.90242034e-01,\n",
       "        2.14154422e-01, 4.67984080e-02, 3.03308829e-03, 0.00000000e+00,\n",
       "        0.00000000e+00, 0.00000000e+00, 0.00000000e+00, 0.00000000e+00],\n",
       "       [0.00000000e+00, 0.00000000e+00, 0.00000000e+00, 0.00000000e+00,\n",
       "        0.00000000e+00, 0.00000000e+00, 0.00000000e+00, 1.04166672e-03,\n",
       "        1.20098051e-02, 5.12101725e-02, 1.18167892e-01, 1.67264104e-01,\n",
       "        1.49693638e-01, 8.21844414e-02, 2.77573541e-02, 3.66881154e-02,\n",
       "        1.60125628e-01, 4.10110295e-01, 6.27343714e-01, 5.91299057e-01,\n",
       "        3.36626828e-01, 1.06924020e-01, 1.55790448e-02, 5.82107867e-04,\n",
       "        0.00000000e+00, 0.00000000e+00, 0.00000000e+00, 0.00000000e+00],\n",
       "       [0.00000000e+00, 0.00000000e+00, 0.00000000e+00, 0.00000000e+00,\n",
       "        0.00000000e+00, 0.00000000e+00, 0.00000000e+00, 0.00000000e+00,\n",
       "        1.04166672e-03, 6.58700988e-03, 1.81066189e-02, 2.75735315e-02,\n",
       "        2.45098062e-02, 1.22242654e-02, 3.04840691e-03, 8.99203494e-03,\n",
       "        7.14307651e-02, 2.56740212e-01, 5.16069233e-01, 6.29886687e-01,\n",
       "        4.75398272e-01, 2.14981616e-01, 5.27573563e-02, 5.51470602e-03,\n",
       "        1.37867653e-04, 0.00000000e+00, 0.00000000e+00, 0.00000000e+00],\n",
       "       [0.00000000e+00, 0.00000000e+00, 0.00000000e+00, 0.00000000e+00,\n",
       "        0.00000000e+00, 0.00000000e+00, 0.00000000e+00, 0.00000000e+00,\n",
       "        0.00000000e+00, 0.00000000e+00, 0.00000000e+00, 0.00000000e+00,\n",
       "        0.00000000e+00, 0.00000000e+00, 0.00000000e+00, 1.47058826e-03,\n",
       "        2.43413001e-02, 1.31510422e-01, 3.62193614e-01, 5.86948574e-01,\n",
       "        5.87729812e-01, 3.62025142e-01, 1.29381135e-01, 2.29473040e-02,\n",
       "        1.25612749e-03, 0.00000000e+00, 0.00000000e+00, 0.00000000e+00],\n",
       "       [0.00000000e+00, 0.00000000e+00, 0.00000000e+00, 0.00000000e+00,\n",
       "        0.00000000e+00, 0.00000000e+00, 0.00000000e+00, 0.00000000e+00,\n",
       "        0.00000000e+00, 0.00000000e+00, 0.00000000e+00, 0.00000000e+00,\n",
       "        0.00000000e+00, 0.00000000e+00, 0.00000000e+00, 3.06372567e-05,\n",
       "        5.60661778e-03, 5.28645888e-02, 2.10600495e-01, 4.62408066e-01,\n",
       "        6.12576604e-01, 4.99371946e-01, 2.42003679e-01, 6.22855425e-02,\n",
       "        6.17340719e-03, 0.00000000e+00, 0.00000000e+00, 0.00000000e+00],\n",
       "       [0.00000000e+00, 0.00000000e+00, 0.00000000e+00, 0.00000000e+00,\n",
       "        0.00000000e+00, 0.00000000e+00, 0.00000000e+00, 0.00000000e+00,\n",
       "        0.00000000e+00, 0.00000000e+00, 0.00000000e+00, 0.00000000e+00,\n",
       "        0.00000000e+00, 0.00000000e+00, 0.00000000e+00, 0.00000000e+00,\n",
       "        7.35294132e-04, 1.56709552e-02, 9.66452211e-02, 2.97457129e-01,\n",
       "        5.29687464e-01, 5.70419729e-01, 3.67172182e-01, 1.31250009e-01,\n",
       "        2.12009810e-02, 6.43382373e-04, 0.00000000e+00, 0.00000000e+00],\n",
       "       [0.00000000e+00, 0.00000000e+00, 0.00000000e+00, 0.00000000e+00,\n",
       "        0.00000000e+00, 0.00000000e+00, 0.00000000e+00, 0.00000000e+00,\n",
       "        0.00000000e+00, 0.00000000e+00, 0.00000000e+00, 0.00000000e+00,\n",
       "        0.00000000e+00, 0.00000000e+00, 0.00000000e+00, 0.00000000e+00,\n",
       "        0.00000000e+00, 3.04840691e-03, 3.21997553e-02, 1.51470587e-01,\n",
       "        3.81341904e-01, 5.51730990e-01, 4.66636032e-01, 2.21721813e-01,\n",
       "        5.15624993e-02, 3.76838259e-03, 0.00000000e+00, 0.00000000e+00],\n",
       "       [0.00000000e+00, 0.00000000e+00, 0.00000000e+00, 0.00000000e+00,\n",
       "        0.00000000e+00, 0.00000000e+00, 0.00000000e+00, 0.00000000e+00,\n",
       "        0.00000000e+00, 0.00000000e+00, 0.00000000e+00, 0.00000000e+00,\n",
       "        0.00000000e+00, 0.00000000e+00, 0.00000000e+00, 0.00000000e+00,\n",
       "        0.00000000e+00, 3.21691186e-04, 6.46446086e-03, 6.00490198e-02,\n",
       "        2.28890926e-01, 4.41743255e-01, 4.70802724e-01, 2.76868850e-01,\n",
       "        8.14644620e-02, 8.63970630e-03, 0.00000000e+00, 0.00000000e+00],\n",
       "       [0.00000000e+00, 0.00000000e+00, 0.00000000e+00, 0.00000000e+00,\n",
       "        0.00000000e+00, 0.00000000e+00, 0.00000000e+00, 0.00000000e+00,\n",
       "        0.00000000e+00, 0.00000000e+00, 0.00000000e+00, 0.00000000e+00,\n",
       "        0.00000000e+00, 0.00000000e+00, 0.00000000e+00, 0.00000000e+00,\n",
       "        0.00000000e+00, 0.00000000e+00, 4.59558825e-04, 1.84129905e-02,\n",
       "        1.07031249e-01, 2.62928933e-01, 3.33578408e-01, 2.26930141e-01,\n",
       "        7.69454613e-02, 9.74264741e-03, 0.00000000e+00, 0.00000000e+00],\n",
       "       [0.00000000e+00, 0.00000000e+00, 0.00000000e+00, 0.00000000e+00,\n",
       "        0.00000000e+00, 0.00000000e+00, 0.00000000e+00, 0.00000000e+00,\n",
       "        0.00000000e+00, 0.00000000e+00, 0.00000000e+00, 0.00000000e+00,\n",
       "        0.00000000e+00, 0.00000000e+00, 0.00000000e+00, 0.00000000e+00,\n",
       "        0.00000000e+00, 0.00000000e+00, 0.00000000e+00, 3.70710786e-03,\n",
       "        3.22303921e-02, 9.72732827e-02, 1.40931368e-01, 1.05851717e-01,\n",
       "        3.90931368e-02, 5.42279426e-03, 0.00000000e+00, 0.00000000e+00],\n",
       "       [0.00000000e+00, 0.00000000e+00, 0.00000000e+00, 0.00000000e+00,\n",
       "        0.00000000e+00, 0.00000000e+00, 0.00000000e+00, 0.00000000e+00,\n",
       "        0.00000000e+00, 0.00000000e+00, 0.00000000e+00, 0.00000000e+00,\n",
       "        0.00000000e+00, 0.00000000e+00, 0.00000000e+00, 0.00000000e+00,\n",
       "        0.00000000e+00, 0.00000000e+00, 0.00000000e+00, 4.28921572e-04,\n",
       "        8.54779407e-03, 3.22916657e-02, 5.22671565e-02, 4.20955904e-02,\n",
       "        1.63909309e-02, 2.38970597e-03, 0.00000000e+00, 0.00000000e+00]],\n",
       "      dtype=float32)"
      ]
     },
     "execution_count": 15,
     "metadata": {},
     "output_type": "execute_result"
    }
   ],
   "source": [
    "first_index = np.where(y_test==num)[0][0]\n",
    "x_test[first_index]"
   ]
  },
  {
   "cell_type": "code",
   "execution_count": 16,
   "metadata": {},
   "outputs": [
    {
     "data": {
      "text/plain": [
       "<matplotlib.image.AxesImage at 0x287d0aff0c8>"
      ]
     },
     "execution_count": 16,
     "metadata": {},
     "output_type": "execute_result"
    },
    {
     "data": {
      "image/png": "[encoded data removed]",
      "text/plain": [
       "<Figure size 432x288 with 1 Axes>"
      ]
     },
     "metadata": {
      "needs_background": "light"
     },
     "output_type": "display_data"
    }
   ],
   "source": [
    "plt.imshow(x_test[first_index])"
   ]
  },
  {
   "cell_type": "markdown",
   "metadata": {},
   "source": [
    "## 3.1 Reshape data into shapes compatible with Keras models"
   ]
  },
  {
   "cell_type": "code",
   "execution_count": 17,
   "metadata": {},
   "outputs": [
    {
     "name": "stdout",
     "output_type": "stream",
     "text": [
      "-- After reshape --\n",
      "Train: (60000, 28, 28, 1) (60000,)\n",
      "Test:  (10000, 28, 28, 1) (10000,)\n"
     ]
    }
   ],
   "source": [
    "x_train = x_train.reshape(x_train.shape[0], 28, 28, 1)\n",
    "x_test = x_test.reshape(x_test.shape[0], 28, 28, 1)\n",
    "\n",
    "print(\"-- After reshape --\")\n",
    "print('Train:', x_train.shape, y_train.shape)\n",
    "print('Test: ', x_test.shape, y_test.shape)"
   ]
  },
  {
   "cell_type": "markdown",
   "metadata": {},
   "source": [
    "## 3.2 Convert labels from digits to one hot vectors"
   ]
  },
  {
   "cell_type": "code",
   "execution_count": 18,
   "metadata": {},
   "outputs": [],
   "source": [
    "import tensorflow\n",
    "\n",
    "# Convert categorical target field to dummy fields\n",
    "y_train_onehot = tensorflow.keras.utils.to_categorical(y_train, 10)\n",
    "y_test_onehot = tensorflow.keras.utils.to_categorical(y_test, 10)"
   ]
  },
  {
   "cell_type": "markdown",
   "metadata": {},
   "source": [
    "## 3.3 Print the label for y_train_onehot[0]"
   ]
  },
  {
   "cell_type": "code",
   "execution_count": 19,
   "metadata": {},
   "outputs": [
    {
     "data": {
      "text/plain": [
       "array([0., 0., 0., 0., 0., 1., 0., 0., 0., 0.], dtype=float32)"
      ]
     },
     "execution_count": 19,
     "metadata": {},
     "output_type": "execute_result"
    }
   ],
   "source": [
    "y_train_onehot[0]"
   ]
  },
  {
   "cell_type": "markdown",
   "metadata": {},
   "source": [
    "## 4.1 Define CNN layers"
   ]
  },
  {
   "cell_type": "code",
   "execution_count": 20,
   "metadata": {},
   "outputs": [],
   "source": [
    "from tensorflow.keras.models import Sequential\n",
    "from tensorflow.keras.layers import Conv2D\n",
    "from tensorflow.keras.layers import MaxPooling2D\n",
    "from tensorflow.keras.layers import Flatten\n",
    "from tensorflow.keras.layers import Dense, Dropout\n",
    "\n",
    "# Clear the session and set a random seed\n",
    "tensorflow.keras.backend.clear_session()\n",
    "tensorflow.random.set_seed(1)\n",
    "\n",
    "import os.path\n",
    "from tensorflow.keras.models import load_model\n",
    "\n",
    "model_path = './classifier.h5'\n",
    "if os.path.isfile(model_path):\n",
    "    classifier = load_model(model_path)\n",
    "else:\n",
    "    # Initialising the CNN classifier\n",
    "    classifier = Sequential()\n",
    "\n",
    "    # Add a Convolution layer with 32 kernels of 3X3 shape with activation function ReLU\n",
    "    classifier.add(Conv2D(32, (3, 3), input_shape = (28, 28, 1), activation = 'relu', padding = 'same'))\n",
    "\n",
    "    # Add a Max Pooling layer of size 2X2\n",
    "    classifier.add(MaxPooling2D(pool_size = (2, 2)))\n",
    "\n",
    "    # Add another Convolution layer with 32 kernels of 3X3 shape with activation function ReLU\n",
    "    classifier.add(Conv2D(32, (3, 3), activation = 'relu', padding = 'same'))\n",
    "\n",
    "    # Adding another pooling layer\n",
    "    classifier.add(MaxPooling2D(pool_size = (2, 2)))\n",
    "\n",
    "    # Add another Convolution layer with 32 kernels of 3X3 shape with activation function ReLU\n",
    "    classifier.add(Conv2D(32, (3, 3), activation = 'relu', padding = 'valid'))\n",
    "\n",
    "    # Adding another pooling layer\n",
    "    classifier.add(MaxPooling2D(pool_size = (2, 2)))\n",
    "\n",
    "    # Flattening the layer before fully connected layers\n",
    "    classifier.add(Flatten())\n",
    "\n",
    "    # Adding a fully connected layer with 512 neurons\n",
    "    classifier.add(Dense(units = 512, activation = 'relu'))\n",
    "\n",
    "    # Adding dropout with probability 0.5\n",
    "    classifier.add(Dropout(0.5))\n",
    "\n",
    "\n",
    "    # Adding a fully connected layer with 128 neurons\n",
    "    classifier.add(Dense(units = 128, activation = 'relu'))\n",
    "\n",
    "\n",
    "    # The final output layer with 10 neurons to predict the categorical classifcation\n",
    "    classifier.add(Dense(units = 10, activation = 'softmax'))"
   ]
  },
  {
   "cell_type": "markdown",
   "metadata": {},
   "source": [
    "## 4.2 Set optimizer and loss function"
   ]
  },
  {
   "cell_type": "code",
   "execution_count": 21,
   "metadata": {},
   "outputs": [],
   "source": [
    "classifier.compile(optimizer = 'adam', loss = 'categorical_crossentropy', metrics = ['accuracy'])"
   ]
  },
  {
   "cell_type": "markdown",
   "metadata": {},
   "source": [
    "## 5. Fit and evaluate model"
   ]
  },
  {
   "cell_type": "code",
   "execution_count": 22,
   "metadata": {},
   "outputs": [
    {
     "name": "stdout",
     "output_type": "stream",
     "text": [
      "Train on 48000 samples, validate on 12000 samples\n",
      "Epoch 1/50\n",
      "47968/48000 [============================>.] - ETA: 0s - loss: 0.0162 - accuracy: 0.9952\n",
      "Epoch 00001: val_loss improved from inf to 0.05248, saving model to ./classifier_weights.h5\n",
      "48000/48000 [==============================] - 60s 1ms/sample - loss: 0.0162 - accuracy: 0.9952 - val_loss: 0.0525 - val_accuracy: 0.9896\n",
      "Epoch 2/50\n",
      "47968/48000 [============================>.] - ETA: 0s - loss: 0.0134 - accuracy: 0.9961\n",
      "Epoch 00002: val_loss improved from 0.05248 to 0.05104, saving model to ./classifier_weights.h5\n",
      "48000/48000 [==============================] - 59s 1ms/sample - loss: 0.0134 - accuracy: 0.9961 - val_loss: 0.0510 - val_accuracy: 0.9892\n",
      "Epoch 3/50\n",
      "47968/48000 [============================>.] - ETA: 0s - loss: 0.0188 - accuracy: 0.9944\n",
      "Epoch 00003: val_loss improved from 0.05104 to 0.03632, saving model to ./classifier_weights.h5\n",
      "48000/48000 [==============================] - 59s 1ms/sample - loss: 0.0188 - accuracy: 0.9944 - val_loss: 0.0363 - val_accuracy: 0.9910\n",
      "Epoch 4/50\n",
      "47936/48000 [============================>.] - ETA: 0s - loss: 0.0169 - accuracy: 0.9950\n",
      "Epoch 00004: val_loss did not improve from 0.03632\n",
      "48000/48000 [==============================] - 55s 1ms/sample - loss: 0.0169 - accuracy: 0.9950 - val_loss: 0.0493 - val_accuracy: 0.9896\n",
      "Epoch 5/50\n",
      "47936/48000 [============================>.] - ETA: 0s - loss: 0.0155 - accuracy: 0.9949\n",
      "Epoch 00005: val_loss did not improve from 0.03632\n",
      "48000/48000 [==============================] - 52s 1ms/sample - loss: 0.0155 - accuracy: 0.9949 - val_loss: 0.0494 - val_accuracy: 0.9898\n",
      "Epoch 6/50\n",
      "47968/48000 [============================>.] - ETA: 0s - loss: 0.0149 - accuracy: 0.9952\n",
      "Epoch 00006: val_loss did not improve from 0.03632\n",
      "48000/48000 [==============================] - 52s 1ms/sample - loss: 0.0149 - accuracy: 0.9952 - val_loss: 0.0459 - val_accuracy: 0.9893\n",
      "Epoch 7/50\n",
      "47968/48000 [============================>.] - ETA: 0s - loss: 0.0161 - accuracy: 0.9951\n",
      "Epoch 00007: val_loss did not improve from 0.03632\n",
      "48000/48000 [==============================] - 56s 1ms/sample - loss: 0.0161 - accuracy: 0.9951 - val_loss: 0.0448 - val_accuracy: 0.9894\n",
      "Epoch 8/50\n",
      "47936/48000 [============================>.] - ETA: 0s - loss: 0.0146 - accuracy: 0.9955\n",
      "Epoch 00008: val_loss did not improve from 0.03632\n",
      "48000/48000 [==============================] - 57s 1ms/sample - loss: 0.0146 - accuracy: 0.9955 - val_loss: 0.0743 - val_accuracy: 0.9867\n",
      "Epoch 9/50\n",
      "47936/48000 [============================>.] - ETA: 0s - loss: 0.0143 - accuracy: 0.9959 ETA: 4s - l - ETA: 3s -\n",
      "Epoch 00009: val_loss did not improve from 0.03632\n",
      "48000/48000 [==============================] - 62s 1ms/sample - loss: 0.0143 - accuracy: 0.9959 - val_loss: 0.0519 - val_accuracy: 0.9893\n",
      "Epoch 10/50\n",
      "47936/48000 [============================>.] - ETA: 0s - loss: 0.0145 - accuracy: 0.9958\n",
      "Epoch 00010: val_loss did not improve from 0.03632\n",
      "48000/48000 [==============================] - 57s 1ms/sample - loss: 0.0145 - accuracy: 0.9959 - val_loss: 0.0432 - val_accuracy: 0.9895\n",
      "Epoch 11/50\n",
      "47936/48000 [============================>.] - ETA: 0s - loss: 0.0137 - accuracy: 0.9957\n",
      "Epoch 00011: val_loss did not improve from 0.03632\n",
      "48000/48000 [==============================] - 61s 1ms/sample - loss: 0.0137 - accuracy: 0.9957 - val_loss: 0.0504 - val_accuracy: 0.9906\n",
      "Epoch 12/50\n",
      "47936/48000 [============================>.] - ETA: 0s - loss: 0.0118 - accuracy: 0.9964\n",
      "Epoch 00012: val_loss did not improve from 0.03632\n",
      "48000/48000 [==============================] - 55s 1ms/sample - loss: 0.0118 - accuracy: 0.9964 - val_loss: 0.0566 - val_accuracy: 0.9904\n",
      "Epoch 13/50\n",
      "47968/48000 [============================>.] - ETA: 0s - loss: 0.0127 - accuracy: 0.9960\n",
      "Epoch 00013: val_loss did not improve from 0.03632\n",
      "48000/48000 [==============================] - 54s 1ms/sample - loss: 0.0127 - accuracy: 0.9960 - val_loss: 0.0443 - val_accuracy: 0.9911\n",
      "Epoch 00013: early stopping\n"
     ]
    },
    {
     "data": {
      "text/plain": [
       "[0.04257126823233095, 0.9907]"
      ]
     },
     "execution_count": 22,
     "metadata": {},
     "output_type": "execute_result"
    }
   ],
   "source": [
    "from tensorflow.keras.preprocessing.image import ImageDataGenerator\n",
    "from tensorflow.keras.callbacks import ModelCheckpoint, EarlyStopping\n",
    "\n",
    "model_weights_path = './classifier_weights.h5'\n",
    "\n",
    "# Add constraints and record best weights to resume \n",
    "callbacks = [\n",
    "    EarlyStopping(\n",
    "        monitor='val_loss',             # Monitor validation loss history\n",
    "        min_delta=0.001,                # Stop training when validation loss is no longer improving by at least 0.001\n",
    "        patience=10,                    # Look at validation loss improvement over the last 10 epochs\n",
    "        verbose=1), \n",
    "    \n",
    "    ModelCheckpoint(model_weights_path,\n",
    "       monitor='val_loss',\n",
    "       verbose=1,\n",
    "       save_best_only=True,\n",
    "       save_weights_only=True,\n",
    "       mode='auto')\n",
    "]\n",
    "\n",
    "if os.path.isfile(model_path):\n",
    "    classifier.load_weights(model_weights_path)\n",
    "\n",
    "# Train the model\n",
    "classifier.fit(x_train, y_train_onehot, validation_split = 0.2, epochs = 50, callbacks=callbacks, verbose = 1)\n",
    "\n",
    "# Test set accuracy\n",
    "classifier.evaluate(x_test, y_test_onehot, verbose=0)"
   ]
  },
  {
   "cell_type": "markdown",
   "metadata": {},
   "source": [
    "* Test accuracy should be more than 90%"
   ]
  },
  {
   "cell_type": "code",
   "execution_count": 23,
   "metadata": {},
   "outputs": [],
   "source": [
    "if not(os.path.isfile(model_path)):\n",
    "    classifier.save('./classifier.h5')"
   ]
  },
  {
   "cell_type": "markdown",
   "metadata": {},
   "source": [
    "## 6. Visualize predictions for x_test[2], x_test[3], x_test[33], x_test[36], x_test[59]"
   ]
  },
  {
   "cell_type": "code",
   "execution_count": 24,
   "metadata": {},
   "outputs": [
    {
     "data": {
      "image/png": "[encoded data removed]",
      "text/plain": [
       "<Figure size 1152x1152 with 5 Axes>"
      ]
     },
     "metadata": {
      "needs_background": "light"
     },
     "output_type": "display_data"
    }
   ],
   "source": [
    "indexes = [2, 3, 33, 36, 59]\n",
    "\n",
    "fig=plt.figure(figsize=(16, 16))\n",
    "columns = 5\n",
    "rows = len(indexes)/columns + 1\n",
    "for i in range(0, len(indexes)):\n",
    "    img = x_test[indexes[i]].reshape(28,28)\n",
    "    fig.add_subplot(rows, columns, i+1)\n",
    "    plt.imshow(img)\n",
    "plt.show()"
   ]
  },
  {
   "cell_type": "code",
   "execution_count": 25,
   "metadata": {},
   "outputs": [
    {
     "name": "stdout",
     "output_type": "stream",
     "text": [
      "Predicted: [1 0 4 7 5]\n"
     ]
    }
   ],
   "source": [
    "result = classifier.predict(x_test[indexes].reshape(len(indexes), 28, 28, 1))\n",
    "print(\"Predicted: \" + str(np.argmax(result, axis=1)))"
   ]
  }
 ],
 "metadata": {
  "kernelspec": {
   "display_name": "Python 3",
   "language": "python",
   "name": "python3"
  },
  "language_info": {
   "codemirror_mode": {
    "name": "ipython",
    "version": 3
   },
   "file_extension": ".py",
   "mimetype": "text/x-python",
   "name": "python",
   "nbconvert_exporter": "python",
   "pygments_lexer": "ipython3",
   "version": "3.7.4"
  }
 },
 "nbformat": 4,
 "nbformat_minor": 2
}
