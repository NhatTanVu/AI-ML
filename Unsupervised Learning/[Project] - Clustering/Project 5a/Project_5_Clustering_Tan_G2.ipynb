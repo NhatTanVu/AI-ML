{
 "cells": [
  {
   "cell_type": "markdown",
   "metadata": {},
   "source": [
    "# Objective\n",
    "To identify different segments in the existing customer based on their spending patterns as well as past interaction with the bank."
   ]
  },
  {
   "cell_type": "markdown",
   "metadata": {},
   "source": [
    "# Key Questions\n",
    "1.\tHow many different segments of customers are there?\n",
    "2.\tHow are these segments different from each other?\n",
    "3.\tWhat are your recommendations to the bank on how to better market to and service these customers?"
   ]
  },
  {
   "cell_type": "markdown",
   "metadata": {},
   "source": [
    "## 1. Import Libraries and load dataset"
   ]
  },
  {
   "cell_type": "code",
   "execution_count": 1,
   "metadata": {},
   "outputs": [],
   "source": [
    "import pandas as pd\n",
    "import numpy as np\n",
    "import matplotlib.pyplot as plt\n",
    "%matplotlib inline \n",
    "import seaborn as sns"
   ]
  },
  {
   "cell_type": "code",
   "execution_count": 2,
   "metadata": {},
   "outputs": [],
   "source": [
    "customerData = pd.read_excel(\"Credit Card Customer Data.xlsx\")"
   ]
  },
  {
   "cell_type": "markdown",
   "metadata": {},
   "source": [
    "## 2. Shape of the dataset"
   ]
  },
  {
   "cell_type": "code",
   "execution_count": 3,
   "metadata": {},
   "outputs": [
    {
     "data": {
      "text/plain": [
       "(660, 7)"
      ]
     },
     "execution_count": 3,
     "metadata": {},
     "output_type": "execute_result"
    }
   ],
   "source": [
    "customerData.shape"
   ]
  },
  {
   "cell_type": "code",
   "execution_count": 4,
   "metadata": {},
   "outputs": [
    {
     "data": {
      "text/plain": [
       "Sl_No                  0\n",
       "Customer Key           0\n",
       "Avg_Credit_Limit       0\n",
       "Total_Credit_Cards     0\n",
       "Total_visits_bank      0\n",
       "Total_visits_online    0\n",
       "Total_calls_made       0\n",
       "dtype: int64"
      ]
     },
     "execution_count": 4,
     "metadata": {},
     "output_type": "execute_result"
    }
   ],
   "source": [
    "customerData.isnull().sum()"
   ]
  },
  {
   "cell_type": "markdown",
   "metadata": {},
   "source": [
    "* No null values in data set"
   ]
  },
  {
   "cell_type": "code",
   "execution_count": 5,
   "metadata": {},
   "outputs": [
    {
     "data": {
      "text/html": [
       "<div>\n",
       "<style scoped>\n",
       "    .dataframe tbody tr th:only-of-type {\n",
       "        vertical-align: middle;\n",
       "    }\n",
       "\n",
       "    .dataframe tbody tr th {\n",
       "        vertical-align: top;\n",
       "    }\n",
       "\n",
       "    .dataframe thead th {\n",
       "        text-align: right;\n",
       "    }\n",
       "</style>\n",
       "<table border=\"1\" class=\"dataframe\">\n",
       "  <thead>\n",
       "    <tr style=\"text-align: right;\">\n",
       "      <th></th>\n",
       "      <th>Sl_No</th>\n",
       "      <th>Customer Key</th>\n",
       "      <th>Avg_Credit_Limit</th>\n",
       "      <th>Total_Credit_Cards</th>\n",
       "      <th>Total_visits_bank</th>\n",
       "      <th>Total_visits_online</th>\n",
       "      <th>Total_calls_made</th>\n",
       "    </tr>\n",
       "  </thead>\n",
       "  <tbody>\n",
       "    <tr>\n",
       "      <td>0</td>\n",
       "      <td>1</td>\n",
       "      <td>87073</td>\n",
       "      <td>100000</td>\n",
       "      <td>2</td>\n",
       "      <td>1</td>\n",
       "      <td>1</td>\n",
       "      <td>0</td>\n",
       "    </tr>\n",
       "    <tr>\n",
       "      <td>1</td>\n",
       "      <td>2</td>\n",
       "      <td>38414</td>\n",
       "      <td>50000</td>\n",
       "      <td>3</td>\n",
       "      <td>0</td>\n",
       "      <td>10</td>\n",
       "      <td>9</td>\n",
       "    </tr>\n",
       "    <tr>\n",
       "      <td>2</td>\n",
       "      <td>3</td>\n",
       "      <td>17341</td>\n",
       "      <td>50000</td>\n",
       "      <td>7</td>\n",
       "      <td>1</td>\n",
       "      <td>3</td>\n",
       "      <td>4</td>\n",
       "    </tr>\n",
       "    <tr>\n",
       "      <td>3</td>\n",
       "      <td>4</td>\n",
       "      <td>40496</td>\n",
       "      <td>30000</td>\n",
       "      <td>5</td>\n",
       "      <td>1</td>\n",
       "      <td>1</td>\n",
       "      <td>4</td>\n",
       "    </tr>\n",
       "    <tr>\n",
       "      <td>4</td>\n",
       "      <td>5</td>\n",
       "      <td>47437</td>\n",
       "      <td>100000</td>\n",
       "      <td>6</td>\n",
       "      <td>0</td>\n",
       "      <td>12</td>\n",
       "      <td>3</td>\n",
       "    </tr>\n",
       "    <tr>\n",
       "      <td>5</td>\n",
       "      <td>6</td>\n",
       "      <td>58634</td>\n",
       "      <td>20000</td>\n",
       "      <td>3</td>\n",
       "      <td>0</td>\n",
       "      <td>1</td>\n",
       "      <td>8</td>\n",
       "    </tr>\n",
       "    <tr>\n",
       "      <td>6</td>\n",
       "      <td>7</td>\n",
       "      <td>48370</td>\n",
       "      <td>100000</td>\n",
       "      <td>5</td>\n",
       "      <td>0</td>\n",
       "      <td>11</td>\n",
       "      <td>2</td>\n",
       "    </tr>\n",
       "    <tr>\n",
       "      <td>7</td>\n",
       "      <td>8</td>\n",
       "      <td>37376</td>\n",
       "      <td>15000</td>\n",
       "      <td>3</td>\n",
       "      <td>0</td>\n",
       "      <td>1</td>\n",
       "      <td>1</td>\n",
       "    </tr>\n",
       "    <tr>\n",
       "      <td>8</td>\n",
       "      <td>9</td>\n",
       "      <td>82490</td>\n",
       "      <td>5000</td>\n",
       "      <td>2</td>\n",
       "      <td>0</td>\n",
       "      <td>2</td>\n",
       "      <td>2</td>\n",
       "    </tr>\n",
       "    <tr>\n",
       "      <td>9</td>\n",
       "      <td>10</td>\n",
       "      <td>44770</td>\n",
       "      <td>3000</td>\n",
       "      <td>4</td>\n",
       "      <td>0</td>\n",
       "      <td>1</td>\n",
       "      <td>7</td>\n",
       "    </tr>\n",
       "  </tbody>\n",
       "</table>\n",
       "</div>"
      ],
      "text/plain": [
       "   Sl_No  Customer Key  Avg_Credit_Limit  Total_Credit_Cards  \\\n",
       "0      1         87073            100000                   2   \n",
       "1      2         38414             50000                   3   \n",
       "2      3         17341             50000                   7   \n",
       "3      4         40496             30000                   5   \n",
       "4      5         47437            100000                   6   \n",
       "5      6         58634             20000                   3   \n",
       "6      7         48370            100000                   5   \n",
       "7      8         37376             15000                   3   \n",
       "8      9         82490              5000                   2   \n",
       "9     10         44770              3000                   4   \n",
       "\n",
       "   Total_visits_bank  Total_visits_online  Total_calls_made  \n",
       "0                  1                    1                 0  \n",
       "1                  0                   10                 9  \n",
       "2                  1                    3                 4  \n",
       "3                  1                    1                 4  \n",
       "4                  0                   12                 3  \n",
       "5                  0                    1                 8  \n",
       "6                  0                   11                 2  \n",
       "7                  0                    1                 1  \n",
       "8                  0                    2                 2  \n",
       "9                  0                    1                 7  "
      ]
     },
     "execution_count": 5,
     "metadata": {},
     "output_type": "execute_result"
    }
   ],
   "source": [
    "customerData.head(10)"
   ]
  },
  {
   "cell_type": "markdown",
   "metadata": {},
   "source": [
    "## 3. Univariate analysis"
   ]
  },
  {
   "cell_type": "markdown",
   "metadata": {},
   "source": [
    "### 3.1 Dropping Sl_No and Customer Key column"
   ]
  },
  {
   "cell_type": "code",
   "execution_count": 6,
   "metadata": {},
   "outputs": [],
   "source": [
    "customerData_short = customerData.drop({'Sl_No', 'Customer Key'}, axis=1)"
   ]
  },
  {
   "cell_type": "markdown",
   "metadata": {},
   "source": [
    "### 3.2 Data types and description"
   ]
  },
  {
   "cell_type": "code",
   "execution_count": 7,
   "metadata": {},
   "outputs": [
    {
     "name": "stdout",
     "output_type": "stream",
     "text": [
      "<class 'pandas.core.frame.DataFrame'>\n",
      "RangeIndex: 660 entries, 0 to 659\n",
      "Data columns (total 5 columns):\n",
      "Avg_Credit_Limit       660 non-null int64\n",
      "Total_Credit_Cards     660 non-null int64\n",
      "Total_visits_bank      660 non-null int64\n",
      "Total_visits_online    660 non-null int64\n",
      "Total_calls_made       660 non-null int64\n",
      "dtypes: int64(5)\n",
      "memory usage: 25.9 KB\n"
     ]
    }
   ],
   "source": [
    "customerData_short.info()"
   ]
  },
  {
   "cell_type": "code",
   "execution_count": 8,
   "metadata": {},
   "outputs": [
    {
     "data": {
      "text/html": [
       "<div>\n",
       "<style scoped>\n",
       "    .dataframe tbody tr th:only-of-type {\n",
       "        vertical-align: middle;\n",
       "    }\n",
       "\n",
       "    .dataframe tbody tr th {\n",
       "        vertical-align: top;\n",
       "    }\n",
       "\n",
       "    .dataframe thead th {\n",
       "        text-align: right;\n",
       "    }\n",
       "</style>\n",
       "<table border=\"1\" class=\"dataframe\">\n",
       "  <thead>\n",
       "    <tr style=\"text-align: right;\">\n",
       "      <th></th>\n",
       "      <th>count</th>\n",
       "      <th>mean</th>\n",
       "      <th>std</th>\n",
       "      <th>min</th>\n",
       "      <th>25%</th>\n",
       "      <th>50%</th>\n",
       "      <th>75%</th>\n",
       "      <th>max</th>\n",
       "    </tr>\n",
       "  </thead>\n",
       "  <tbody>\n",
       "    <tr>\n",
       "      <td>Avg_Credit_Limit</td>\n",
       "      <td>660.0</td>\n",
       "      <td>34574.242424</td>\n",
       "      <td>37625.487804</td>\n",
       "      <td>3000.0</td>\n",
       "      <td>10000.0</td>\n",
       "      <td>18000.0</td>\n",
       "      <td>48000.0</td>\n",
       "      <td>200000.0</td>\n",
       "    </tr>\n",
       "    <tr>\n",
       "      <td>Total_Credit_Cards</td>\n",
       "      <td>660.0</td>\n",
       "      <td>4.706061</td>\n",
       "      <td>2.167835</td>\n",
       "      <td>1.0</td>\n",
       "      <td>3.0</td>\n",
       "      <td>5.0</td>\n",
       "      <td>6.0</td>\n",
       "      <td>10.0</td>\n",
       "    </tr>\n",
       "    <tr>\n",
       "      <td>Total_visits_bank</td>\n",
       "      <td>660.0</td>\n",
       "      <td>2.403030</td>\n",
       "      <td>1.631813</td>\n",
       "      <td>0.0</td>\n",
       "      <td>1.0</td>\n",
       "      <td>2.0</td>\n",
       "      <td>4.0</td>\n",
       "      <td>5.0</td>\n",
       "    </tr>\n",
       "    <tr>\n",
       "      <td>Total_visits_online</td>\n",
       "      <td>660.0</td>\n",
       "      <td>2.606061</td>\n",
       "      <td>2.935724</td>\n",
       "      <td>0.0</td>\n",
       "      <td>1.0</td>\n",
       "      <td>2.0</td>\n",
       "      <td>4.0</td>\n",
       "      <td>15.0</td>\n",
       "    </tr>\n",
       "    <tr>\n",
       "      <td>Total_calls_made</td>\n",
       "      <td>660.0</td>\n",
       "      <td>3.583333</td>\n",
       "      <td>2.865317</td>\n",
       "      <td>0.0</td>\n",
       "      <td>1.0</td>\n",
       "      <td>3.0</td>\n",
       "      <td>5.0</td>\n",
       "      <td>10.0</td>\n",
       "    </tr>\n",
       "  </tbody>\n",
       "</table>\n",
       "</div>"
      ],
      "text/plain": [
       "                     count          mean           std     min      25%  \\\n",
       "Avg_Credit_Limit     660.0  34574.242424  37625.487804  3000.0  10000.0   \n",
       "Total_Credit_Cards   660.0      4.706061      2.167835     1.0      3.0   \n",
       "Total_visits_bank    660.0      2.403030      1.631813     0.0      1.0   \n",
       "Total_visits_online  660.0      2.606061      2.935724     0.0      1.0   \n",
       "Total_calls_made     660.0      3.583333      2.865317     0.0      1.0   \n",
       "\n",
       "                         50%      75%       max  \n",
       "Avg_Credit_Limit     18000.0  48000.0  200000.0  \n",
       "Total_Credit_Cards       5.0      6.0      10.0  \n",
       "Total_visits_bank        2.0      4.0       5.0  \n",
       "Total_visits_online      2.0      4.0      15.0  \n",
       "Total_calls_made         3.0      5.0      10.0  "
      ]
     },
     "execution_count": 8,
     "metadata": {},
     "output_type": "execute_result"
    }
   ],
   "source": [
    "customerData_short.describe().transpose()"
   ]
  },
  {
   "cell_type": "markdown",
   "metadata": {},
   "source": [
    "### 3.3 Find duplicated rows"
   ]
  },
  {
   "cell_type": "code",
   "execution_count": 9,
   "metadata": {},
   "outputs": [
    {
     "data": {
      "text/html": [
       "<div>\n",
       "<style scoped>\n",
       "    .dataframe tbody tr th:only-of-type {\n",
       "        vertical-align: middle;\n",
       "    }\n",
       "\n",
       "    .dataframe tbody tr th {\n",
       "        vertical-align: top;\n",
       "    }\n",
       "\n",
       "    .dataframe thead th {\n",
       "        text-align: right;\n",
       "    }\n",
       "</style>\n",
       "<table border=\"1\" class=\"dataframe\">\n",
       "  <thead>\n",
       "    <tr style=\"text-align: right;\">\n",
       "      <th></th>\n",
       "      <th>Avg_Credit_Limit</th>\n",
       "      <th>Total_Credit_Cards</th>\n",
       "      <th>Total_visits_bank</th>\n",
       "      <th>Total_visits_online</th>\n",
       "      <th>Total_calls_made</th>\n",
       "    </tr>\n",
       "  </thead>\n",
       "  <tbody>\n",
       "    <tr>\n",
       "      <td>17</td>\n",
       "      <td>8000</td>\n",
       "      <td>2</td>\n",
       "      <td>0</td>\n",
       "      <td>3</td>\n",
       "      <td>4</td>\n",
       "    </tr>\n",
       "    <tr>\n",
       "      <td>29</td>\n",
       "      <td>8000</td>\n",
       "      <td>4</td>\n",
       "      <td>0</td>\n",
       "      <td>4</td>\n",
       "      <td>7</td>\n",
       "    </tr>\n",
       "    <tr>\n",
       "      <td>56</td>\n",
       "      <td>6000</td>\n",
       "      <td>1</td>\n",
       "      <td>0</td>\n",
       "      <td>2</td>\n",
       "      <td>5</td>\n",
       "    </tr>\n",
       "    <tr>\n",
       "      <td>162</td>\n",
       "      <td>8000</td>\n",
       "      <td>2</td>\n",
       "      <td>0</td>\n",
       "      <td>3</td>\n",
       "      <td>4</td>\n",
       "    </tr>\n",
       "    <tr>\n",
       "      <td>175</td>\n",
       "      <td>6000</td>\n",
       "      <td>1</td>\n",
       "      <td>0</td>\n",
       "      <td>2</td>\n",
       "      <td>5</td>\n",
       "    </tr>\n",
       "    <tr>\n",
       "      <td>215</td>\n",
       "      <td>8000</td>\n",
       "      <td>4</td>\n",
       "      <td>0</td>\n",
       "      <td>4</td>\n",
       "      <td>7</td>\n",
       "    </tr>\n",
       "    <tr>\n",
       "      <td>250</td>\n",
       "      <td>18000</td>\n",
       "      <td>6</td>\n",
       "      <td>3</td>\n",
       "      <td>1</td>\n",
       "      <td>4</td>\n",
       "    </tr>\n",
       "    <tr>\n",
       "      <td>252</td>\n",
       "      <td>9000</td>\n",
       "      <td>4</td>\n",
       "      <td>5</td>\n",
       "      <td>0</td>\n",
       "      <td>4</td>\n",
       "    </tr>\n",
       "    <tr>\n",
       "      <td>257</td>\n",
       "      <td>10000</td>\n",
       "      <td>6</td>\n",
       "      <td>4</td>\n",
       "      <td>2</td>\n",
       "      <td>3</td>\n",
       "    </tr>\n",
       "    <tr>\n",
       "      <td>295</td>\n",
       "      <td>10000</td>\n",
       "      <td>6</td>\n",
       "      <td>4</td>\n",
       "      <td>2</td>\n",
       "      <td>3</td>\n",
       "    </tr>\n",
       "    <tr>\n",
       "      <td>310</td>\n",
       "      <td>5000</td>\n",
       "      <td>4</td>\n",
       "      <td>5</td>\n",
       "      <td>0</td>\n",
       "      <td>1</td>\n",
       "    </tr>\n",
       "    <tr>\n",
       "      <td>320</td>\n",
       "      <td>12000</td>\n",
       "      <td>6</td>\n",
       "      <td>5</td>\n",
       "      <td>2</td>\n",
       "      <td>1</td>\n",
       "    </tr>\n",
       "    <tr>\n",
       "      <td>324</td>\n",
       "      <td>9000</td>\n",
       "      <td>4</td>\n",
       "      <td>5</td>\n",
       "      <td>0</td>\n",
       "      <td>4</td>\n",
       "    </tr>\n",
       "    <tr>\n",
       "      <td>334</td>\n",
       "      <td>8000</td>\n",
       "      <td>7</td>\n",
       "      <td>4</td>\n",
       "      <td>2</td>\n",
       "      <td>0</td>\n",
       "    </tr>\n",
       "    <tr>\n",
       "      <td>361</td>\n",
       "      <td>18000</td>\n",
       "      <td>6</td>\n",
       "      <td>3</td>\n",
       "      <td>1</td>\n",
       "      <td>4</td>\n",
       "    </tr>\n",
       "    <tr>\n",
       "      <td>378</td>\n",
       "      <td>12000</td>\n",
       "      <td>6</td>\n",
       "      <td>5</td>\n",
       "      <td>2</td>\n",
       "      <td>1</td>\n",
       "    </tr>\n",
       "    <tr>\n",
       "      <td>385</td>\n",
       "      <td>8000</td>\n",
       "      <td>7</td>\n",
       "      <td>4</td>\n",
       "      <td>2</td>\n",
       "      <td>0</td>\n",
       "    </tr>\n",
       "    <tr>\n",
       "      <td>395</td>\n",
       "      <td>5000</td>\n",
       "      <td>4</td>\n",
       "      <td>5</td>\n",
       "      <td>0</td>\n",
       "      <td>1</td>\n",
       "    </tr>\n",
       "    <tr>\n",
       "      <td>425</td>\n",
       "      <td>47000</td>\n",
       "      <td>6</td>\n",
       "      <td>2</td>\n",
       "      <td>0</td>\n",
       "      <td>4</td>\n",
       "    </tr>\n",
       "    <tr>\n",
       "      <td>455</td>\n",
       "      <td>47000</td>\n",
       "      <td>6</td>\n",
       "      <td>2</td>\n",
       "      <td>0</td>\n",
       "      <td>4</td>\n",
       "    </tr>\n",
       "    <tr>\n",
       "      <td>464</td>\n",
       "      <td>52000</td>\n",
       "      <td>4</td>\n",
       "      <td>2</td>\n",
       "      <td>1</td>\n",
       "      <td>2</td>\n",
       "    </tr>\n",
       "    <tr>\n",
       "      <td>497</td>\n",
       "      <td>52000</td>\n",
       "      <td>4</td>\n",
       "      <td>2</td>\n",
       "      <td>1</td>\n",
       "      <td>2</td>\n",
       "    </tr>\n",
       "  </tbody>\n",
       "</table>\n",
       "</div>"
      ],
      "text/plain": [
       "     Avg_Credit_Limit  Total_Credit_Cards  Total_visits_bank  \\\n",
       "17               8000                   2                  0   \n",
       "29               8000                   4                  0   \n",
       "56               6000                   1                  0   \n",
       "162              8000                   2                  0   \n",
       "175              6000                   1                  0   \n",
       "215              8000                   4                  0   \n",
       "250             18000                   6                  3   \n",
       "252              9000                   4                  5   \n",
       "257             10000                   6                  4   \n",
       "295             10000                   6                  4   \n",
       "310              5000                   4                  5   \n",
       "320             12000                   6                  5   \n",
       "324              9000                   4                  5   \n",
       "334              8000                   7                  4   \n",
       "361             18000                   6                  3   \n",
       "378             12000                   6                  5   \n",
       "385              8000                   7                  4   \n",
       "395              5000                   4                  5   \n",
       "425             47000                   6                  2   \n",
       "455             47000                   6                  2   \n",
       "464             52000                   4                  2   \n",
       "497             52000                   4                  2   \n",
       "\n",
       "     Total_visits_online  Total_calls_made  \n",
       "17                     3                 4  \n",
       "29                     4                 7  \n",
       "56                     2                 5  \n",
       "162                    3                 4  \n",
       "175                    2                 5  \n",
       "215                    4                 7  \n",
       "250                    1                 4  \n",
       "252                    0                 4  \n",
       "257                    2                 3  \n",
       "295                    2                 3  \n",
       "310                    0                 1  \n",
       "320                    2                 1  \n",
       "324                    0                 4  \n",
       "334                    2                 0  \n",
       "361                    1                 4  \n",
       "378                    2                 1  \n",
       "385                    2                 0  \n",
       "395                    0                 1  \n",
       "425                    0                 4  \n",
       "455                    0                 4  \n",
       "464                    1                 2  \n",
       "497                    1                 2  "
      ]
     },
     "execution_count": 9,
     "metadata": {},
     "output_type": "execute_result"
    }
   ],
   "source": [
    "customerData_short[customerData_short.duplicated(keep=False)]"
   ]
  },
  {
   "cell_type": "markdown",
   "metadata": {},
   "source": [
    "* There are 22 duplicated rows"
   ]
  },
  {
   "cell_type": "markdown",
   "metadata": {},
   "source": [
    "### 3.4 Remove duplicates"
   ]
  },
  {
   "cell_type": "code",
   "execution_count": 10,
   "metadata": {},
   "outputs": [
    {
     "data": {
      "text/plain": [
       "0"
      ]
     },
     "execution_count": 10,
     "metadata": {},
     "output_type": "execute_result"
    }
   ],
   "source": [
    "customerData_short.drop_duplicates(inplace=True)\n",
    "sum(customerData_short.duplicated())"
   ]
  },
  {
   "cell_type": "markdown",
   "metadata": {},
   "source": [
    "### 3.5 Outlier check"
   ]
  },
  {
   "cell_type": "code",
   "execution_count": 11,
   "metadata": {},
   "outputs": [
    {
     "data": {
      "image/png": "[encoded data removed]",
      "text/plain": [
       "<Figure size 1080x720 with 5 Axes>"
      ]
     },
     "metadata": {
      "needs_background": "light"
     },
     "output_type": "display_data"
    }
   ],
   "source": [
    "plt.figure(figsize=(15,10))\n",
    "pos = 1\n",
    "for i in customerData_short.columns:\n",
    "    plt.subplot(3, 3, pos)\n",
    "    sns.boxplot(customerData_short[i])\n",
    "    pos += 1 "
   ]
  },
  {
   "cell_type": "markdown",
   "metadata": {},
   "source": [
    "* There are many outliers in **Avg_Credit_Limit** and **Total_visits_online** columns"
   ]
  },
  {
   "cell_type": "markdown",
   "metadata": {},
   "source": [
    "## 4. Bi-variate analysis"
   ]
  },
  {
   "cell_type": "code",
   "execution_count": 12,
   "metadata": {},
   "outputs": [
    {
     "data": {
      "image/png": "[encoded data removed]",
      "text/plain": [
       "<Figure size 900x900 with 30 Axes>"
      ]
     },
     "metadata": {
      "needs_background": "light"
     },
     "output_type": "display_data"
    }
   ],
   "source": [
    "sns.pairplot(customerData_short, diag_kind='kde')\n",
    "plt.show()"
   ]
  },
  {
   "cell_type": "markdown",
   "metadata": {},
   "source": [
    "* Based on the kde plots, we can work with 2-4 clusters"
   ]
  },
  {
   "cell_type": "markdown",
   "metadata": {},
   "source": [
    "## 5. Scale the data"
   ]
  },
  {
   "cell_type": "code",
   "execution_count": 13,
   "metadata": {},
   "outputs": [],
   "source": [
    "from scipy.stats import zscore\n",
    "\n",
    "customerData_z = customerData_short.apply(zscore)"
   ]
  },
  {
   "cell_type": "code",
   "execution_count": 14,
   "metadata": {},
   "outputs": [
    {
     "data": {
      "text/html": [
       "<div>\n",
       "<style scoped>\n",
       "    .dataframe tbody tr th:only-of-type {\n",
       "        vertical-align: middle;\n",
       "    }\n",
       "\n",
       "    .dataframe tbody tr th {\n",
       "        vertical-align: top;\n",
       "    }\n",
       "\n",
       "    .dataframe thead th {\n",
       "        text-align: right;\n",
       "    }\n",
       "</style>\n",
       "<table border=\"1\" class=\"dataframe\">\n",
       "  <thead>\n",
       "    <tr style=\"text-align: right;\">\n",
       "      <th></th>\n",
       "      <th>Avg_Credit_Limit</th>\n",
       "      <th>Total_Credit_Cards</th>\n",
       "      <th>Total_visits_bank</th>\n",
       "      <th>Total_visits_online</th>\n",
       "      <th>Total_calls_made</th>\n",
       "    </tr>\n",
       "  </thead>\n",
       "  <tbody>\n",
       "    <tr>\n",
       "      <td>0</td>\n",
       "      <td>1.723499</td>\n",
       "      <td>-1.247087</td>\n",
       "      <td>-0.860606</td>\n",
       "      <td>-0.550407</td>\n",
       "      <td>-1.248443</td>\n",
       "    </tr>\n",
       "    <tr>\n",
       "      <td>1</td>\n",
       "      <td>0.400209</td>\n",
       "      <td>-0.786701</td>\n",
       "      <td>-1.476410</td>\n",
       "      <td>2.499808</td>\n",
       "      <td>1.881237</td>\n",
       "    </tr>\n",
       "    <tr>\n",
       "      <td>2</td>\n",
       "      <td>0.400209</td>\n",
       "      <td>1.054846</td>\n",
       "      <td>-0.860606</td>\n",
       "      <td>0.127419</td>\n",
       "      <td>0.142526</td>\n",
       "    </tr>\n",
       "    <tr>\n",
       "      <td>3</td>\n",
       "      <td>-0.129107</td>\n",
       "      <td>0.134072</td>\n",
       "      <td>-0.860606</td>\n",
       "      <td>-0.550407</td>\n",
       "      <td>0.142526</td>\n",
       "    </tr>\n",
       "    <tr>\n",
       "      <td>4</td>\n",
       "      <td>1.723499</td>\n",
       "      <td>0.594459</td>\n",
       "      <td>-1.476410</td>\n",
       "      <td>3.177634</td>\n",
       "      <td>-0.205216</td>\n",
       "    </tr>\n",
       "  </tbody>\n",
       "</table>\n",
       "</div>"
      ],
      "text/plain": [
       "   Avg_Credit_Limit  Total_Credit_Cards  Total_visits_bank  \\\n",
       "0          1.723499           -1.247087          -0.860606   \n",
       "1          0.400209           -0.786701          -1.476410   \n",
       "2          0.400209            1.054846          -0.860606   \n",
       "3         -0.129107            0.134072          -0.860606   \n",
       "4          1.723499            0.594459          -1.476410   \n",
       "\n",
       "   Total_visits_online  Total_calls_made  \n",
       "0            -0.550407         -1.248443  \n",
       "1             2.499808          1.881237  \n",
       "2             0.127419          0.142526  \n",
       "3            -0.550407          0.142526  \n",
       "4             3.177634         -0.205216  "
      ]
     },
     "execution_count": 14,
     "metadata": {},
     "output_type": "execute_result"
    }
   ],
   "source": [
    "customerData_z.head()"
   ]
  },
  {
   "cell_type": "code",
   "execution_count": 15,
   "metadata": {},
   "outputs": [
    {
     "data": {
      "text/html": [
       "<div>\n",
       "<style scoped>\n",
       "    .dataframe tbody tr th:only-of-type {\n",
       "        vertical-align: middle;\n",
       "    }\n",
       "\n",
       "    .dataframe tbody tr th {\n",
       "        vertical-align: top;\n",
       "    }\n",
       "\n",
       "    .dataframe thead th {\n",
       "        text-align: right;\n",
       "    }\n",
       "</style>\n",
       "<table border=\"1\" class=\"dataframe\">\n",
       "  <thead>\n",
       "    <tr style=\"text-align: right;\">\n",
       "      <th></th>\n",
       "      <th>count</th>\n",
       "      <th>mean</th>\n",
       "      <th>std</th>\n",
       "      <th>min</th>\n",
       "      <th>25%</th>\n",
       "      <th>50%</th>\n",
       "      <th>75%</th>\n",
       "      <th>max</th>\n",
       "    </tr>\n",
       "  </thead>\n",
       "  <tbody>\n",
       "    <tr>\n",
       "      <td>Avg_Credit_Limit</td>\n",
       "      <td>649.0</td>\n",
       "      <td>3.695041e-16</td>\n",
       "      <td>1.000771</td>\n",
       "      <td>-0.843684</td>\n",
       "      <td>-0.631958</td>\n",
       "      <td>-0.446697</td>\n",
       "      <td>0.373743</td>\n",
       "      <td>4.370081</td>\n",
       "    </tr>\n",
       "    <tr>\n",
       "      <td>Total_Credit_Cards</td>\n",
       "      <td>649.0</td>\n",
       "      <td>-8.543072e-16</td>\n",
       "      <td>1.000771</td>\n",
       "      <td>-1.707474</td>\n",
       "      <td>-0.786701</td>\n",
       "      <td>0.134072</td>\n",
       "      <td>0.594459</td>\n",
       "      <td>2.436005</td>\n",
       "    </tr>\n",
       "    <tr>\n",
       "      <td>Total_visits_bank</td>\n",
       "      <td>649.0</td>\n",
       "      <td>4.892508e-17</td>\n",
       "      <td>1.000771</td>\n",
       "      <td>-1.476410</td>\n",
       "      <td>-0.860606</td>\n",
       "      <td>-0.244803</td>\n",
       "      <td>0.986803</td>\n",
       "      <td>1.602607</td>\n",
       "    </tr>\n",
       "    <tr>\n",
       "      <td>Total_visits_online</td>\n",
       "      <td>649.0</td>\n",
       "      <td>1.375376e-16</td>\n",
       "      <td>1.000771</td>\n",
       "      <td>-0.889320</td>\n",
       "      <td>-0.550407</td>\n",
       "      <td>-0.211494</td>\n",
       "      <td>0.466331</td>\n",
       "      <td>4.194372</td>\n",
       "    </tr>\n",
       "    <tr>\n",
       "      <td>Total_calls_made</td>\n",
       "      <td>649.0</td>\n",
       "      <td>7.489301e-16</td>\n",
       "      <td>1.000771</td>\n",
       "      <td>-1.248443</td>\n",
       "      <td>-0.900701</td>\n",
       "      <td>-0.205216</td>\n",
       "      <td>0.490268</td>\n",
       "      <td>2.228980</td>\n",
       "    </tr>\n",
       "  </tbody>\n",
       "</table>\n",
       "</div>"
      ],
      "text/plain": [
       "                     count          mean       std       min       25%  \\\n",
       "Avg_Credit_Limit     649.0  3.695041e-16  1.000771 -0.843684 -0.631958   \n",
       "Total_Credit_Cards   649.0 -8.543072e-16  1.000771 -1.707474 -0.786701   \n",
       "Total_visits_bank    649.0  4.892508e-17  1.000771 -1.476410 -0.860606   \n",
       "Total_visits_online  649.0  1.375376e-16  1.000771 -0.889320 -0.550407   \n",
       "Total_calls_made     649.0  7.489301e-16  1.000771 -1.248443 -0.900701   \n",
       "\n",
       "                          50%       75%       max  \n",
       "Avg_Credit_Limit    -0.446697  0.373743  4.370081  \n",
       "Total_Credit_Cards   0.134072  0.594459  2.436005  \n",
       "Total_visits_bank   -0.244803  0.986803  1.602607  \n",
       "Total_visits_online -0.211494  0.466331  4.194372  \n",
       "Total_calls_made    -0.205216  0.490268  2.228980  "
      ]
     },
     "execution_count": 15,
     "metadata": {},
     "output_type": "execute_result"
    }
   ],
   "source": [
    "customerData_z.describe().transpose()"
   ]
  },
  {
   "cell_type": "markdown",
   "metadata": {},
   "source": [
    "## 6. Finding optimal no. of clusters using Elbow method + K-means clustering"
   ]
  },
  {
   "cell_type": "markdown",
   "metadata": {},
   "source": [
    "### 6.1 Using Distortion score"
   ]
  },
  {
   "cell_type": "code",
   "execution_count": 16,
   "metadata": {},
   "outputs": [
    {
     "data": {
      "image/png": "[encoded data removed]",
      "text/plain": [
       "<Figure size 576x396 with 1 Axes>"
      ]
     },
     "metadata": {},
     "output_type": "display_data"
    },
    {
     "data": {
      "text/plain": [
       "<matplotlib.axes._subplots.AxesSubplot at 0x2a395e09648>"
      ]
     },
     "execution_count": 16,
     "metadata": {},
     "output_type": "execute_result"
    }
   ],
   "source": [
    "from yellowbrick.cluster import KElbowVisualizer # pip install yellowbrick\n",
    "from sklearn.cluster import KMeans\n",
    "\n",
    "visualizer = KElbowVisualizer(KMeans(random_state=1), k=(2,10), timings = False, locate_elbow = True, metric='silhouette')\n",
    "visualizer.fit(customerData_z) \n",
    "visualizer.show() "
   ]
  },
  {
   "cell_type": "markdown",
   "metadata": {},
   "source": [
    "* According to the above graph, the optimal no. of clusters is 3"
   ]
  },
  {
   "cell_type": "markdown",
   "metadata": {},
   "source": [
    "### 6.2 Using Silhouette Coefficient score"
   ]
  },
  {
   "cell_type": "code",
   "execution_count": 17,
   "metadata": {},
   "outputs": [
    {
     "data": {
      "image/png": "[encoded data removed]",
      "text/plain": [
       "<Figure size 576x396 with 1 Axes>"
      ]
     },
     "metadata": {},
     "output_type": "display_data"
    },
    {
     "data": {
      "text/plain": [
       "<matplotlib.axes._subplots.AxesSubplot at 0x2a395e97408>"
      ]
     },
     "execution_count": 17,
     "metadata": {},
     "output_type": "execute_result"
    }
   ],
   "source": [
    "visualizer = KElbowVisualizer(KMeans(random_state=1), k=(2,10), timings = False, locate_elbow = True, metric='silhouette')\n",
    "visualizer.fit(customerData_z) \n",
    "visualizer.show() "
   ]
  },
  {
   "cell_type": "markdown",
   "metadata": {},
   "source": [
    "* According to this graph, the optimal no. of clusters is also 3"
   ]
  },
  {
   "cell_type": "markdown",
   "metadata": {},
   "source": [
    "## 7. Perform a Silhouette analysis"
   ]
  },
  {
   "cell_type": "code",
   "execution_count": 18,
   "metadata": {},
   "outputs": [
    {
     "name": "stdout",
     "output_type": "stream",
     "text": [
      "For n_clusters = 2 The average silhouette_score is : 0.41800025566689647\n",
      "For n_clusters = 3 The average silhouette_score is : 0.516281010855363\n",
      "For n_clusters = 4 The average silhouette_score is : 0.3570238219413198\n",
      "For n_clusters = 5 The average silhouette_score is : 0.2730908848204728\n",
      "For n_clusters = 6 The average silhouette_score is : 0.2569035285862428\n",
      "For n_clusters = 7 The average silhouette_score is : 0.24820100806368722\n",
      "For n_clusters = 8 The average silhouette_score is : 0.22702515587520655\n",
      "For n_clusters = 9 The average silhouette_score is : 0.227895517040229\n",
      "For n_clusters = 10 The average silhouette_score is : 0.2135614321387584\n"
     ]
    }
   ],
   "source": [
    "from sklearn.metrics import silhouette_score\n",
    "\n",
    "range_n_clusters = [2, 3, 4, 5, 6, 7, 8, 9, 10]\n",
    "for n_clusters in range_n_clusters:\n",
    "    # Initialize the clusterer with n_clusters value and a random generator\n",
    "    # seed of 1 for reproducibility.\n",
    "    clusterer = KMeans(n_clusters=n_clusters, random_state=1)\n",
    "    cluster_labels = clusterer.fit_predict(customerData_z)\n",
    "\n",
    "    # The silhouette_score gives the average value for all the samples.\n",
    "    # This gives a perspective into the density and separation of the formed\n",
    "    # clusters\n",
    "    silhouette_avg = silhouette_score(customerData_z, cluster_labels)\n",
    "    print(\"For n_clusters =\", n_clusters,\n",
    "          \"The average silhouette_score is :\", silhouette_avg)"
   ]
  },
  {
   "cell_type": "markdown",
   "metadata": {},
   "source": [
    "* Similar to **6.3**, no. of clusters = 3 has the highest Silhouette score of 0.516, thus the optimal no. of clusters is 3"
   ]
  },
  {
   "cell_type": "markdown",
   "metadata": {},
   "source": [
    "## 8. K-Means clustering analysis"
   ]
  },
  {
   "cell_type": "code",
   "execution_count": 19,
   "metadata": {},
   "outputs": [
    {
     "data": {
      "text/plain": [
       "KMeans(algorithm='auto', copy_x=True, init='k-means++', max_iter=300,\n",
       "       n_clusters=3, n_init=10, n_jobs=None, precompute_distances='auto',\n",
       "       random_state=1, tol=0.0001, verbose=0)"
      ]
     },
     "execution_count": 19,
     "metadata": {},
     "output_type": "execute_result"
    }
   ],
   "source": [
    "kmeans = KMeans(n_clusters=3, random_state = 1)\n",
    "kmeans.fit(customerData_z)"
   ]
  },
  {
   "cell_type": "code",
   "execution_count": 20,
   "metadata": {},
   "outputs": [
    {
     "data": {
      "text/html": [
       "<div>\n",
       "<style scoped>\n",
       "    .dataframe tbody tr th:only-of-type {\n",
       "        vertical-align: middle;\n",
       "    }\n",
       "\n",
       "    .dataframe tbody tr th {\n",
       "        vertical-align: top;\n",
       "    }\n",
       "\n",
       "    .dataframe thead th {\n",
       "        text-align: right;\n",
       "    }\n",
       "</style>\n",
       "<table border=\"1\" class=\"dataframe\">\n",
       "  <thead>\n",
       "    <tr style=\"text-align: right;\">\n",
       "      <th></th>\n",
       "      <th>Avg_Credit_Limit</th>\n",
       "      <th>Total_Credit_Cards</th>\n",
       "      <th>Total_visits_bank</th>\n",
       "      <th>Total_visits_online</th>\n",
       "      <th>Total_calls_made</th>\n",
       "    </tr>\n",
       "  </thead>\n",
       "  <tbody>\n",
       "    <tr>\n",
       "      <td>0</td>\n",
       "      <td>-0.599145</td>\n",
       "      <td>-1.057516</td>\n",
       "      <td>-0.894044</td>\n",
       "      <td>0.317578</td>\n",
       "      <td>1.147989</td>\n",
       "    </tr>\n",
       "    <tr>\n",
       "      <td>1</td>\n",
       "      <td>-0.021354</td>\n",
       "      <td>0.372791</td>\n",
       "      <td>0.669127</td>\n",
       "      <td>-0.556683</td>\n",
       "      <td>-0.555718</td>\n",
       "    </tr>\n",
       "    <tr>\n",
       "      <td>2</td>\n",
       "      <td>2.809656</td>\n",
       "      <td>1.855918</td>\n",
       "      <td>-1.106928</td>\n",
       "      <td>2.804830</td>\n",
       "      <td>-0.872881</td>\n",
       "    </tr>\n",
       "  </tbody>\n",
       "</table>\n",
       "</div>"
      ],
      "text/plain": [
       "   Avg_Credit_Limit  Total_Credit_Cards  Total_visits_bank  \\\n",
       "0         -0.599145           -1.057516          -0.894044   \n",
       "1         -0.021354            0.372791           0.669127   \n",
       "2          2.809656            1.855918          -1.106928   \n",
       "\n",
       "   Total_visits_online  Total_calls_made  \n",
       "0             0.317578          1.147989  \n",
       "1            -0.556683         -0.555718  \n",
       "2             2.804830         -0.872881  "
      ]
     },
     "execution_count": 20,
     "metadata": {},
     "output_type": "execute_result"
    }
   ],
   "source": [
    "centroids = kmeans.cluster_centers_\n",
    "centroid_df = pd.DataFrame(centroids, columns = list(customerData_z))\n",
    "centroid_df"
   ]
  },
  {
   "cell_type": "code",
   "execution_count": 21,
   "metadata": {},
   "outputs": [
    {
     "data": {
      "text/plain": [
       "0    221\n",
       "1    378\n",
       "2     50\n",
       "Name: labels, dtype: int64"
      ]
     },
     "execution_count": 21,
     "metadata": {},
     "output_type": "execute_result"
    }
   ],
   "source": [
    "customerData_labels = pd.DataFrame(kmeans.labels_, columns = list(['labels']))\n",
    "customerData_labels['labels'] = customerData_labels['labels'].astype('int')\n",
    "customerData_labels['labels'].value_counts().sort_index()"
   ]
  },
  {
   "cell_type": "code",
   "execution_count": 22,
   "metadata": {},
   "outputs": [
    {
     "data": {
      "text/plain": [
       "array([<matplotlib.axes._subplots.AxesSubplot object at 0x000002A3961A6BC8>,\n",
       "       <matplotlib.axes._subplots.AxesSubplot object at 0x000002A395DA7A48>,\n",
       "       <matplotlib.axes._subplots.AxesSubplot object at 0x000002A395D35D88>,\n",
       "       <matplotlib.axes._subplots.AxesSubplot object at 0x000002A395CE6088>,\n",
       "       <matplotlib.axes._subplots.AxesSubplot object at 0x000002A3961F44C8>],\n",
       "      dtype=object)"
      ]
     },
     "execution_count": 22,
     "metadata": {},
     "output_type": "execute_result"
    },
    {
     "data": {
      "image/png": "[encoded data removed]",
      "text/plain": [
       "<Figure size 1440x504 with 5 Axes>"
      ]
     },
     "metadata": {},
     "output_type": "display_data"
    }
   ],
   "source": [
    "customerData_z.join(customerData_labels).boxplot(by='labels', layout=(1,5), figsize=(20, 7))"
   ]
  },
  {
   "cell_type": "markdown",
   "metadata": {},
   "source": [
    "#### Cluster 0 has lowest {Avg_Credit_Limit, Total_Credit_Cards}, but highest Total_calls_made\n",
    "> Cluster 0 customers are **poorest**, and they prefer to have queries on call centre\n",
    "#### Cluster 1 has average {Avg_Credit_Limit, Total_Credit_Cards}, also highest Total_visits_bank\n",
    "> Cluster 1 is the largest group, these customers are **average**, and they prefer go to the bank for enquiries\n",
    "#### Cluster 2 has highest {Avg_Credit_Limit, Total_Credit_Cards}, but highest Total_visits_online\n",
    "> Cluster 2 is the smallest group, but these customers are **richest**, and they prefer to contact the bank online"
   ]
  },
  {
   "cell_type": "markdown",
   "metadata": {},
   "source": [
    "#### Advices for Marketing and Operation team:\n",
    "> 1. Marketing team should run online personalised campaigns for Cluster 2 customers\n",
    "2. Operation team should improve their bank and online service delivery model for Cluster 1 and 2 customers"
   ]
  },
  {
   "cell_type": "markdown",
   "metadata": {},
   "source": [
    "## 9. Hierarchical clustering analysis"
   ]
  },
  {
   "cell_type": "markdown",
   "metadata": {},
   "source": [
    "### 9.1 Generate the linkage matrix"
   ]
  },
  {
   "cell_type": "code",
   "execution_count": 23,
   "metadata": {},
   "outputs": [
    {
     "data": {
      "text/plain": [
       "(648, 4)"
      ]
     },
     "execution_count": 23,
     "metadata": {},
     "output_type": "execute_result"
    }
   ],
   "source": [
    "from scipy.cluster.hierarchy import dendrogram, linkage\n",
    "\n",
    "Z = linkage(customerData_z, method='ward', metric='euclidean')\n",
    "Z.shape"
   ]
  },
  {
   "cell_type": "markdown",
   "metadata": {},
   "source": [
    "### 9.2 Plot the dendrogram"
   ]
  },
  {
   "cell_type": "code",
   "execution_count": 24,
   "metadata": {},
   "outputs": [
    {
     "data": {
      "image/png": "[encoded data removed]",
      "text/plain": [
       "<Figure size 720x360 with 1 Axes>"
      ]
     },
     "metadata": {},
     "output_type": "display_data"
    }
   ],
   "source": [
    "plt.figure(figsize=(10, 5))\n",
    "dendrogram(Z,truncate_mode='lastp', p=3)\n",
    "plt.show()"
   ]
  },
  {
   "cell_type": "markdown",
   "metadata": {},
   "source": [
    "### 9.3 Find out the optimal distance between clusters from dendrogram"
   ]
  },
  {
   "cell_type": "code",
   "execution_count": 25,
   "metadata": {},
   "outputs": [],
   "source": [
    "max_d = 40"
   ]
  },
  {
   "cell_type": "markdown",
   "metadata": {},
   "source": [
    "### 9.4 Cluster data into 3 different groups"
   ]
  },
  {
   "cell_type": "code",
   "execution_count": 26,
   "metadata": {},
   "outputs": [],
   "source": [
    "from scipy.cluster.hierarchy import fcluster\n",
    "\n",
    "hierarchical_clusters = fcluster(Z, max_d, criterion='distance')"
   ]
  },
  {
   "cell_type": "code",
   "execution_count": 27,
   "metadata": {},
   "outputs": [
    {
     "data": {
      "text/plain": [
       "1    222\n",
       "2     50\n",
       "3    377\n",
       "Name: clusters, dtype: int64"
      ]
     },
     "execution_count": 27,
     "metadata": {},
     "output_type": "execute_result"
    }
   ],
   "source": [
    "customerData_clusters = pd.DataFrame(hierarchical_clusters, columns = list(['clusters']))\n",
    "customerData_clusters['clusters'] = customerData_clusters['clusters'].astype('int')\n",
    "customerData_clusters['clusters'].value_counts().sort_index()"
   ]
  },
  {
   "cell_type": "code",
   "execution_count": 28,
   "metadata": {},
   "outputs": [
    {
     "data": {
      "text/plain": [
       "array([<matplotlib.axes._subplots.AxesSubplot object at 0x000002A396ABF088>,\n",
       "       <matplotlib.axes._subplots.AxesSubplot object at 0x000002A396AD8A48>,\n",
       "       <matplotlib.axes._subplots.AxesSubplot object at 0x000002A396B0CBC8>,\n",
       "       <matplotlib.axes._subplots.AxesSubplot object at 0x000002A396B43E08>,\n",
       "       <matplotlib.axes._subplots.AxesSubplot object at 0x000002A396B7D048>],\n",
       "      dtype=object)"
      ]
     },
     "execution_count": 28,
     "metadata": {},
     "output_type": "execute_result"
    },
    {
     "data": {
      "image/png": "[encoded data removed]",
      "text/plain": [
       "<Figure size 1440x504 with 5 Axes>"
      ]
     },
     "metadata": {},
     "output_type": "display_data"
    }
   ],
   "source": [
    "customerData_z.join(customerData_clusters).boxplot(by='clusters', layout=(1,5), figsize=(20, 7))"
   ]
  },
  {
   "cell_type": "markdown",
   "metadata": {},
   "source": [
    "#### Summary:\n",
    "> Hierarchical Cluster 1 is similar to K-Means Cluster 0<br>\n",
    "> Hierarchical Cluster 2 is similar to K-Means Cluster 2<br>\n",
    "> Hierarchical Cluster 3 is similar to K-Means Cluster 1"
   ]
  }
 ],
 "metadata": {
  "kernelspec": {
   "display_name": "Python 3",
   "language": "python",
   "name": "python3"
  },
  "language_info": {
   "codemirror_mode": {
    "name": "ipython",
    "version": 3
   },
   "file_extension": ".py",
   "mimetype": "text/x-python",
   "name": "python",
   "nbconvert_exporter": "python",
   "pygments_lexer": "ipython3",
   "version": "3.7.4"
  }
 },
 "nbformat": 4,
 "nbformat_minor": 2
}
